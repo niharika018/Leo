{
 "cells": [
  {
   "cell_type": "markdown",
   "metadata": {},
   "source": [
    "## Importing Libraries"
   ]
  },
  {
   "cell_type": "code",
   "execution_count": 1,
   "metadata": {},
   "outputs": [],
   "source": [
    "import warnings\n",
    "warnings.filterwarnings(\"ignore\")"
   ]
  },
  {
   "cell_type": "code",
   "execution_count": 3,
   "metadata": {},
   "outputs": [],
   "source": [
    "import os\n",
    "import numpy as np\n",
    "import pandas as pd\n",
    "import matplotlib.pyplot as plt\n",
    "import seaborn as sns\n",
    "%matplotlib inline\n",
    "from sklearn.model_selection import train_test_split\n",
    "from sklearn.metrics import accuracy_score,classification_report,confusion_matrix"
   ]
  },
  {
   "cell_type": "markdown",
   "metadata": {},
   "source": [
    "## Data Loading"
   ]
  },
  {
   "cell_type": "code",
   "execution_count": 4,
   "metadata": {},
   "outputs": [
    {
     "data": {
      "text/plain": [
       "['MalwareData.csv']"
      ]
     },
     "execution_count": 4,
     "metadata": {},
     "output_type": "execute_result"
    }
   ],
   "source": [
    "os.listdir(\"input\")"
   ]
  },
  {
   "cell_type": "code",
   "execution_count": 5,
   "metadata": {},
   "outputs": [],
   "source": [
    "data=pd.read_csv(\"input/MalwareData.csv\")"
   ]
  },
  {
   "cell_type": "markdown",
   "metadata": {},
   "source": [
    "***preliminary Analysis***"
   ]
  },
  {
   "cell_type": "code",
   "execution_count": 6,
   "metadata": {},
   "outputs": [
    {
     "name": "stdout",
     "output_type": "stream",
     "text": [
      "5102\n"
     ]
    }
   ],
   "source": [
    "print(len(data))"
   ]
  },
  {
   "cell_type": "code",
   "execution_count": 7,
   "metadata": {},
   "outputs": [
    {
     "name": "stdout",
     "output_type": "stream",
     "text": [
      "22\n"
     ]
    }
   ],
   "source": [
    "print(len(data.columns))"
   ]
  },
  {
   "cell_type": "code",
   "execution_count": 8,
   "metadata": {},
   "outputs": [
    {
     "name": "stdout",
     "output_type": "stream",
     "text": [
      "(5102, 22)\n"
     ]
    }
   ],
   "source": [
    "print(data.shape)"
   ]
  },
  {
   "cell_type": "code",
   "execution_count": 9,
   "metadata": {},
   "outputs": [
    {
     "data": {
      "text/plain": [
       "N    3000\n",
       "Y    2102\n",
       "Name: label, dtype: int64"
      ]
     },
     "execution_count": 9,
     "metadata": {},
     "output_type": "execute_result"
    }
   ],
   "source": [
    "data[\"label\"].value_counts()"
   ]
  },
  {
   "cell_type": "code",
   "execution_count": 10,
   "metadata": {},
   "outputs": [
    {
     "data": {
      "text/html": [
       "<div>\n",
       "<style scoped>\n",
       "    .dataframe tbody tr th:only-of-type {\n",
       "        vertical-align: middle;\n",
       "    }\n",
       "\n",
       "    .dataframe tbody tr th {\n",
       "        vertical-align: top;\n",
       "    }\n",
       "\n",
       "    .dataframe thead th {\n",
       "        text-align: right;\n",
       "    }\n",
       "</style>\n",
       "<table border=\"1\" class=\"dataframe\">\n",
       "  <thead>\n",
       "    <tr style=\"text-align: right;\">\n",
       "      <th></th>\n",
       "      <th>LOC_BLANK</th>\n",
       "      <th>BRANCH_COUNT</th>\n",
       "      <th>LOC_CODE_AND_COMMENT</th>\n",
       "      <th>LOC_COMMENTS</th>\n",
       "      <th>CYCLOMATIC_COMPLEXITY</th>\n",
       "      <th>DESIGN_COMPLEXITY</th>\n",
       "      <th>ESSENTIAL_COMPLEXITY</th>\n",
       "      <th>LOC_EXECUTABLE</th>\n",
       "      <th>HALSTEAD_CONTENT</th>\n",
       "      <th>HALSTEAD_DIFFICULTY</th>\n",
       "      <th>...</th>\n",
       "      <th>HALSTEAD_LENGTH</th>\n",
       "      <th>HALSTEAD_LEVEL</th>\n",
       "      <th>HALSTEAD_PROG_TIME</th>\n",
       "      <th>HALSTEAD_VOLUME</th>\n",
       "      <th>NUM_OPERANDS</th>\n",
       "      <th>NUM_OPERATORS</th>\n",
       "      <th>NUM_UNIQUE_OPERANDS</th>\n",
       "      <th>NUM_UNIQUE_OPERATORS</th>\n",
       "      <th>LOC_TOTAL</th>\n",
       "      <th>label</th>\n",
       "    </tr>\n",
       "  </thead>\n",
       "  <tbody>\n",
       "    <tr>\n",
       "      <th>0</th>\n",
       "      <td>447</td>\n",
       "      <td>826</td>\n",
       "      <td>12</td>\n",
       "      <td>157</td>\n",
       "      <td>470</td>\n",
       "      <td>385</td>\n",
       "      <td>113</td>\n",
       "      <td>2824</td>\n",
       "      <td>210.28</td>\n",
       "      <td>384.45</td>\n",
       "      <td>...</td>\n",
       "      <td>8441</td>\n",
       "      <td>0.00</td>\n",
       "      <td>1726654.57</td>\n",
       "      <td>80843.08</td>\n",
       "      <td>3021</td>\n",
       "      <td>5420</td>\n",
       "      <td>609</td>\n",
       "      <td>155</td>\n",
       "      <td>3442</td>\n",
       "      <td>Y</td>\n",
       "    </tr>\n",
       "    <tr>\n",
       "      <th>1</th>\n",
       "      <td>0</td>\n",
       "      <td>211</td>\n",
       "      <td>0</td>\n",
       "      <td>0</td>\n",
       "      <td>128</td>\n",
       "      <td>104</td>\n",
       "      <td>14</td>\n",
       "      <td>0</td>\n",
       "      <td>0.00</td>\n",
       "      <td>0.00</td>\n",
       "      <td>...</td>\n",
       "      <td>0</td>\n",
       "      <td>0.00</td>\n",
       "      <td>0.00</td>\n",
       "      <td>0.00</td>\n",
       "      <td>0</td>\n",
       "      <td>0</td>\n",
       "      <td>0</td>\n",
       "      <td>0</td>\n",
       "      <td>1129</td>\n",
       "      <td>Y</td>\n",
       "    </tr>\n",
       "    <tr>\n",
       "      <th>2</th>\n",
       "      <td>164</td>\n",
       "      <td>485</td>\n",
       "      <td>10</td>\n",
       "      <td>58</td>\n",
       "      <td>268</td>\n",
       "      <td>219</td>\n",
       "      <td>39</td>\n",
       "      <td>1588</td>\n",
       "      <td>202.98</td>\n",
       "      <td>213.53</td>\n",
       "      <td>...</td>\n",
       "      <td>4828</td>\n",
       "      <td>0.00</td>\n",
       "      <td>514156.64</td>\n",
       "      <td>43342.31</td>\n",
       "      <td>1730</td>\n",
       "      <td>3172</td>\n",
       "      <td>407</td>\n",
       "      <td>102</td>\n",
       "      <td>1824</td>\n",
       "      <td>Y</td>\n",
       "    </tr>\n",
       "    <tr>\n",
       "      <th>3</th>\n",
       "      <td>37</td>\n",
       "      <td>29</td>\n",
       "      <td>8</td>\n",
       "      <td>42</td>\n",
       "      <td>19</td>\n",
       "      <td>19</td>\n",
       "      <td>6</td>\n",
       "      <td>133</td>\n",
       "      <td>108.14</td>\n",
       "      <td>46.32</td>\n",
       "      <td>...</td>\n",
       "      <td>685</td>\n",
       "      <td>0.02</td>\n",
       "      <td>12891.31</td>\n",
       "      <td>5009.32</td>\n",
       "      <td>295</td>\n",
       "      <td>390</td>\n",
       "      <td>121</td>\n",
       "      <td>38</td>\n",
       "      <td>222</td>\n",
       "      <td>Y</td>\n",
       "    </tr>\n",
       "    <tr>\n",
       "      <th>4</th>\n",
       "      <td>11</td>\n",
       "      <td>405</td>\n",
       "      <td>0</td>\n",
       "      <td>17</td>\n",
       "      <td>404</td>\n",
       "      <td>2</td>\n",
       "      <td>1</td>\n",
       "      <td>814</td>\n",
       "      <td>101.20</td>\n",
       "      <td>206.01</td>\n",
       "      <td>...</td>\n",
       "      <td>2033</td>\n",
       "      <td>0.00</td>\n",
       "      <td>238607.05</td>\n",
       "      <td>20848.47</td>\n",
       "      <td>813</td>\n",
       "      <td>1220</td>\n",
       "      <td>811</td>\n",
       "      <td>411</td>\n",
       "      <td>844</td>\n",
       "      <td>Y</td>\n",
       "    </tr>\n",
       "    <tr>\n",
       "      <th>5</th>\n",
       "      <td>106</td>\n",
       "      <td>240</td>\n",
       "      <td>7</td>\n",
       "      <td>344</td>\n",
       "      <td>127</td>\n",
       "      <td>105</td>\n",
       "      <td>33</td>\n",
       "      <td>952</td>\n",
       "      <td>218.17</td>\n",
       "      <td>215.17</td>\n",
       "      <td>...</td>\n",
       "      <td>5669</td>\n",
       "      <td>0.00</td>\n",
       "      <td>561159.25</td>\n",
       "      <td>46943.69</td>\n",
       "      <td>2301</td>\n",
       "      <td>3368</td>\n",
       "      <td>262</td>\n",
       "      <td>49</td>\n",
       "      <td>1411</td>\n",
       "      <td>Y</td>\n",
       "    </tr>\n",
       "    <tr>\n",
       "      <th>6</th>\n",
       "      <td>101</td>\n",
       "      <td>464</td>\n",
       "      <td>11</td>\n",
       "      <td>75</td>\n",
       "      <td>263</td>\n",
       "      <td>256</td>\n",
       "      <td>140</td>\n",
       "      <td>1339</td>\n",
       "      <td>106.50</td>\n",
       "      <td>337.36</td>\n",
       "      <td>...</td>\n",
       "      <td>4308</td>\n",
       "      <td>0.00</td>\n",
       "      <td>673377.60</td>\n",
       "      <td>35928.07</td>\n",
       "      <td>1556</td>\n",
       "      <td>2752</td>\n",
       "      <td>226</td>\n",
       "      <td>98</td>\n",
       "      <td>1532</td>\n",
       "      <td>Y</td>\n",
       "    </tr>\n",
       "    <tr>\n",
       "      <th>7</th>\n",
       "      <td>67</td>\n",
       "      <td>187</td>\n",
       "      <td>4</td>\n",
       "      <td>1</td>\n",
       "      <td>94</td>\n",
       "      <td>63</td>\n",
       "      <td>27</td>\n",
       "      <td>391</td>\n",
       "      <td>233.07</td>\n",
       "      <td>58.04</td>\n",
       "      <td>...</td>\n",
       "      <td>1780</td>\n",
       "      <td>0.02</td>\n",
       "      <td>43621.22</td>\n",
       "      <td>13527.84</td>\n",
       "      <td>718</td>\n",
       "      <td>1062</td>\n",
       "      <td>167</td>\n",
       "      <td>27</td>\n",
       "      <td>466</td>\n",
       "      <td>Y</td>\n",
       "    </tr>\n",
       "    <tr>\n",
       "      <th>8</th>\n",
       "      <td>105</td>\n",
       "      <td>344</td>\n",
       "      <td>9</td>\n",
       "      <td>40</td>\n",
       "      <td>207</td>\n",
       "      <td>171</td>\n",
       "      <td>58</td>\n",
       "      <td>1124</td>\n",
       "      <td>122.60</td>\n",
       "      <td>269.46</td>\n",
       "      <td>...</td>\n",
       "      <td>3848</td>\n",
       "      <td>0.00</td>\n",
       "      <td>494537.33</td>\n",
       "      <td>33034.94</td>\n",
       "      <td>1432</td>\n",
       "      <td>2416</td>\n",
       "      <td>279</td>\n",
       "      <td>105</td>\n",
       "      <td>1280</td>\n",
       "      <td>Y</td>\n",
       "    </tr>\n",
       "    <tr>\n",
       "      <th>9</th>\n",
       "      <td>0</td>\n",
       "      <td>83</td>\n",
       "      <td>0</td>\n",
       "      <td>0</td>\n",
       "      <td>42</td>\n",
       "      <td>16</td>\n",
       "      <td>27</td>\n",
       "      <td>0</td>\n",
       "      <td>0.00</td>\n",
       "      <td>0.00</td>\n",
       "      <td>...</td>\n",
       "      <td>0</td>\n",
       "      <td>0.00</td>\n",
       "      <td>0.00</td>\n",
       "      <td>0.00</td>\n",
       "      <td>0</td>\n",
       "      <td>0</td>\n",
       "      <td>0</td>\n",
       "      <td>0</td>\n",
       "      <td>186</td>\n",
       "      <td>Y</td>\n",
       "    </tr>\n",
       "  </tbody>\n",
       "</table>\n",
       "<p>10 rows × 22 columns</p>\n",
       "</div>"
      ],
      "text/plain": [
       "   LOC_BLANK  BRANCH_COUNT  LOC_CODE_AND_COMMENT  LOC_COMMENTS  \\\n",
       "0        447           826                    12           157   \n",
       "1          0           211                     0             0   \n",
       "2        164           485                    10            58   \n",
       "3         37            29                     8            42   \n",
       "4         11           405                     0            17   \n",
       "5        106           240                     7           344   \n",
       "6        101           464                    11            75   \n",
       "7         67           187                     4             1   \n",
       "8        105           344                     9            40   \n",
       "9          0            83                     0             0   \n",
       "\n",
       "   CYCLOMATIC_COMPLEXITY  DESIGN_COMPLEXITY  ESSENTIAL_COMPLEXITY  \\\n",
       "0                    470                385                   113   \n",
       "1                    128                104                    14   \n",
       "2                    268                219                    39   \n",
       "3                     19                 19                     6   \n",
       "4                    404                  2                     1   \n",
       "5                    127                105                    33   \n",
       "6                    263                256                   140   \n",
       "7                     94                 63                    27   \n",
       "8                    207                171                    58   \n",
       "9                     42                 16                    27   \n",
       "\n",
       "   LOC_EXECUTABLE  HALSTEAD_CONTENT  HALSTEAD_DIFFICULTY  ...  \\\n",
       "0            2824            210.28               384.45  ...   \n",
       "1               0              0.00                 0.00  ...   \n",
       "2            1588            202.98               213.53  ...   \n",
       "3             133            108.14                46.32  ...   \n",
       "4             814            101.20               206.01  ...   \n",
       "5             952            218.17               215.17  ...   \n",
       "6            1339            106.50               337.36  ...   \n",
       "7             391            233.07                58.04  ...   \n",
       "8            1124            122.60               269.46  ...   \n",
       "9               0              0.00                 0.00  ...   \n",
       "\n",
       "   HALSTEAD_LENGTH  HALSTEAD_LEVEL  HALSTEAD_PROG_TIME  HALSTEAD_VOLUME  \\\n",
       "0             8441            0.00          1726654.57         80843.08   \n",
       "1                0            0.00                0.00             0.00   \n",
       "2             4828            0.00           514156.64         43342.31   \n",
       "3              685            0.02            12891.31          5009.32   \n",
       "4             2033            0.00           238607.05         20848.47   \n",
       "5             5669            0.00           561159.25         46943.69   \n",
       "6             4308            0.00           673377.60         35928.07   \n",
       "7             1780            0.02            43621.22         13527.84   \n",
       "8             3848            0.00           494537.33         33034.94   \n",
       "9                0            0.00                0.00             0.00   \n",
       "\n",
       "   NUM_OPERANDS  NUM_OPERATORS  NUM_UNIQUE_OPERANDS  NUM_UNIQUE_OPERATORS  \\\n",
       "0          3021           5420                  609                   155   \n",
       "1             0              0                    0                     0   \n",
       "2          1730           3172                  407                   102   \n",
       "3           295            390                  121                    38   \n",
       "4           813           1220                  811                   411   \n",
       "5          2301           3368                  262                    49   \n",
       "6          1556           2752                  226                    98   \n",
       "7           718           1062                  167                    27   \n",
       "8          1432           2416                  279                   105   \n",
       "9             0              0                    0                     0   \n",
       "\n",
       "   LOC_TOTAL  label  \n",
       "0       3442      Y  \n",
       "1       1129      Y  \n",
       "2       1824      Y  \n",
       "3        222      Y  \n",
       "4        844      Y  \n",
       "5       1411      Y  \n",
       "6       1532      Y  \n",
       "7        466      Y  \n",
       "8       1280      Y  \n",
       "9        186      Y  \n",
       "\n",
       "[10 rows x 22 columns]"
      ]
     },
     "execution_count": 10,
     "metadata": {},
     "output_type": "execute_result"
    }
   ],
   "source": [
    "data.head(10)"
   ]
  },
  {
   "cell_type": "markdown",
   "metadata": {},
   "source": [
    "## Data preprocessing"
   ]
  },
  {
   "cell_type": "markdown",
   "metadata": {},
   "source": [
    "***Null-Values Analysis***"
   ]
  },
  {
   "cell_type": "code",
   "execution_count": 11,
   "metadata": {},
   "outputs": [
    {
     "name": "stdout",
     "output_type": "stream",
     "text": [
      "LOC_BLANK                0\n",
      "BRANCH_COUNT             0\n",
      "LOC_CODE_AND_COMMENT     0\n",
      "LOC_COMMENTS             0\n",
      "CYCLOMATIC_COMPLEXITY    0\n",
      "DESIGN_COMPLEXITY        0\n",
      "ESSENTIAL_COMPLEXITY     0\n",
      "LOC_EXECUTABLE           0\n",
      "HALSTEAD_CONTENT         0\n",
      "HALSTEAD_DIFFICULTY      0\n",
      "HALSTEAD_EFFORT          0\n",
      "HALSTEAD_ERROR_EST       0\n",
      "HALSTEAD_LENGTH          0\n",
      "HALSTEAD_LEVEL           0\n",
      "HALSTEAD_PROG_TIME       0\n",
      "HALSTEAD_VOLUME          0\n",
      "NUM_OPERANDS             0\n",
      "NUM_OPERATORS            0\n",
      "NUM_UNIQUE_OPERANDS      0\n",
      "NUM_UNIQUE_OPERATORS     0\n",
      "LOC_TOTAL                0\n",
      "label                    0\n",
      "dtype: int64\n"
     ]
    }
   ],
   "source": [
    "print(data.isnull().sum())"
   ]
  },
  {
   "cell_type": "code",
   "execution_count": 12,
   "metadata": {},
   "outputs": [
    {
     "name": "stdout",
     "output_type": "stream",
     "text": [
      "<class 'pandas.core.frame.DataFrame'>\n",
      "RangeIndex: 5102 entries, 0 to 5101\n",
      "Data columns (total 22 columns):\n",
      " #   Column                 Non-Null Count  Dtype  \n",
      "---  ------                 --------------  -----  \n",
      " 0   LOC_BLANK              5102 non-null   int64  \n",
      " 1   BRANCH_COUNT           5102 non-null   int64  \n",
      " 2   LOC_CODE_AND_COMMENT   5102 non-null   int64  \n",
      " 3   LOC_COMMENTS           5102 non-null   int64  \n",
      " 4   CYCLOMATIC_COMPLEXITY  5102 non-null   int64  \n",
      " 5   DESIGN_COMPLEXITY      5102 non-null   int64  \n",
      " 6   ESSENTIAL_COMPLEXITY   5102 non-null   int64  \n",
      " 7   LOC_EXECUTABLE         5102 non-null   int64  \n",
      " 8   HALSTEAD_CONTENT       5102 non-null   float64\n",
      " 9   HALSTEAD_DIFFICULTY    5102 non-null   float64\n",
      " 10  HALSTEAD_EFFORT        5102 non-null   float64\n",
      " 11  HALSTEAD_ERROR_EST     5102 non-null   float64\n",
      " 12  HALSTEAD_LENGTH        5102 non-null   int64  \n",
      " 13  HALSTEAD_LEVEL         5102 non-null   float64\n",
      " 14  HALSTEAD_PROG_TIME     5102 non-null   float64\n",
      " 15  HALSTEAD_VOLUME        5102 non-null   float64\n",
      " 16  NUM_OPERANDS           5102 non-null   int64  \n",
      " 17  NUM_OPERATORS          5102 non-null   int64  \n",
      " 18  NUM_UNIQUE_OPERANDS    5102 non-null   int64  \n",
      " 19  NUM_UNIQUE_OPERATORS   5102 non-null   int64  \n",
      " 20  LOC_TOTAL              5102 non-null   int64  \n",
      " 21  label                  5102 non-null   object \n",
      "dtypes: float64(7), int64(14), object(1)\n",
      "memory usage: 877.0+ KB\n"
     ]
    }
   ],
   "source": [
    "data.info()"
   ]
  },
  {
   "cell_type": "code",
   "execution_count": 13,
   "metadata": {},
   "outputs": [
    {
     "name": "stdout",
     "output_type": "stream",
     "text": [
      "['Y' 'N']\n"
     ]
    }
   ],
   "source": [
    "print(data[\"label\"].unique())"
   ]
  },
  {
   "cell_type": "code",
   "execution_count": 14,
   "metadata": {},
   "outputs": [
    {
     "data": {
      "text/plain": [
       "N    3000\n",
       "Y    2102\n",
       "Name: label, dtype: int64"
      ]
     },
     "execution_count": 14,
     "metadata": {},
     "output_type": "execute_result"
    }
   ],
   "source": [
    "data[\"label\"].value_counts()"
   ]
  },
  {
   "cell_type": "markdown",
   "metadata": {},
   "source": [
    "## Data Visualization"
   ]
  },
  {
   "cell_type": "markdown",
   "metadata": {},
   "source": [
    "***Pie-chart***"
   ]
  },
  {
   "cell_type": "code",
   "execution_count": 15,
   "metadata": {},
   "outputs": [
    {
     "data": {
      "image/png": "[encoded data removed]",
      "text/plain": [
       "<Figure size 720x720 with 1 Axes>"
      ]
     },
     "metadata": {},
     "output_type": "display_data"
    }
   ],
   "source": [
    "plt.figure(figsize=(10,10))\n",
    "plt.rcParams[\"font.size\"]=16\n",
    "labels=[\"No\",\"Yes\"]\n",
    "colors=[\"teal\",\"gold\"]\n",
    "plt.pie(x=data[\"label\"].value_counts(),labels=labels,colors=colors,autopct=\"%.2f\",shadow=True)\n",
    "plt.title(\"Class Size Comparison\")\n",
    "plt.show()"
   ]
  },
  {
   "cell_type": "markdown",
   "metadata": {},
   "source": [
    "***Bar-chart***"
   ]
  },
  {
   "cell_type": "code",
   "execution_count": 20,
   "metadata": {},
   "outputs": [
    {
     "data": {
      "image/png": "[encoded data removed]",
      "text/plain": [
       "<Figure size 1296x576 with 1 Axes>"
      ]
     },
     "metadata": {
      "needs_background": "light"
     },
     "output_type": "display_data"
    }
   ],
   "source": [
    "plt.figure(figsize=(18,8))\n",
    "plt.bar(height=data[\"label\"].value_counts(),x=labels,color=colors)\n",
    "plt.title(\"Class Size Comparison\")\n",
    "plt.show()"
   ]
  },
  {
   "cell_type": "markdown",
   "metadata": {},
   "source": [
    "***Checking features with Object datatype***"
   ]
  },
  {
   "cell_type": "code",
   "execution_count": 21,
   "metadata": {},
   "outputs": [],
   "source": [
    "object_datatype=[col for col in data.columns if data[col].dtype==\"O\"]"
   ]
  },
  {
   "cell_type": "code",
   "execution_count": 22,
   "metadata": {},
   "outputs": [
    {
     "name": "stdout",
     "output_type": "stream",
     "text": [
      "[]\n"
     ]
    }
   ],
   "source": [
    "print(object_datatype)"
   ]
  },
  {
   "cell_type": "markdown",
   "metadata": {},
   "source": [
    "***Label Encoding***"
   ]
  },
  {
   "cell_type": "code",
   "execution_count": 23,
   "metadata": {},
   "outputs": [],
   "source": [
    "from sklearn import preprocessing\n",
    "labelencoder=preprocessing.LabelEncoder()\n",
    "data[\"label\"]=labelencoder.fit_transform(data[\"label\"])"
   ]
  },
  {
   "cell_type": "code",
   "execution_count": 24,
   "metadata": {},
   "outputs": [
    {
     "data": {
      "text/plain": [
       "array([1, 0], dtype=int64)"
      ]
     },
     "execution_count": 24,
     "metadata": {},
     "output_type": "execute_result"
    }
   ],
   "source": [
    "data[\"label\"].unique()"
   ]
  },
  {
   "cell_type": "code",
   "execution_count": 25,
   "metadata": {},
   "outputs": [
    {
     "data": {
      "text/plain": [
       "0    3000\n",
       "1    2102\n",
       "Name: label, dtype: int64"
      ]
     },
     "execution_count": 25,
     "metadata": {},
     "output_type": "execute_result"
    }
   ],
   "source": [
    "data[\"label\"].value_counts()"
   ]
  },
  {
   "cell_type": "markdown",
   "metadata": {},
   "source": [
    "***Features and class seperation***"
   ]
  },
  {
   "cell_type": "code",
   "execution_count": 26,
   "metadata": {},
   "outputs": [],
   "source": [
    "X=data.drop(\"label\",axis=1)\n",
    "y=data[\"label\"]"
   ]
  },
  {
   "cell_type": "code",
   "execution_count": 27,
   "metadata": {},
   "outputs": [
    {
     "name": "stdout",
     "output_type": "stream",
     "text": [
      "(5102, 21) (5102,)\n"
     ]
    }
   ],
   "source": [
    "print(X.shape,y.shape)"
   ]
  },
  {
   "cell_type": "markdown",
   "metadata": {},
   "source": [
    "***resizing the distribution of values***"
   ]
  },
  {
   "cell_type": "code",
   "execution_count": 28,
   "metadata": {},
   "outputs": [],
   "source": [
    "from sklearn.preprocessing import StandardScaler\n",
    "sc = StandardScaler()\n",
    "sc.fit(X)\n",
    "\n",
    "X=sc.transform(X)"
   ]
  },
  {
   "cell_type": "code",
   "execution_count": 29,
   "metadata": {},
   "outputs": [],
   "source": [
    "import pickle\n",
    "with open(file=\"models/StandardScaler.pkl\",mode=\"wb\") as file:\n",
    "    pickle.dump(obj=sc,file=file)"
   ]
  },
  {
   "cell_type": "markdown",
   "metadata": {},
   "source": [
    "***Data Oversampling***"
   ]
  },
  {
   "cell_type": "code",
   "execution_count": 30,
   "metadata": {},
   "outputs": [],
   "source": [
    "from imblearn.over_sampling import SMOTE\n",
    "smote=SMOTE(random_state=42)\n",
    "X,y=smote.fit_resample(X,y)"
   ]
  },
  {
   "cell_type": "code",
   "execution_count": 31,
   "metadata": {},
   "outputs": [
    {
     "name": "stdout",
     "output_type": "stream",
     "text": [
      "(6000, 21) (6000,)\n"
     ]
    }
   ],
   "source": [
    "print(X.shape,y.shape)"
   ]
  },
  {
   "cell_type": "code",
   "execution_count": 32,
   "metadata": {},
   "outputs": [
    {
     "data": {
      "text/plain": [
       "1    3000\n",
       "0    3000\n",
       "Name: label, dtype: int64"
      ]
     },
     "execution_count": 32,
     "metadata": {},
     "output_type": "execute_result"
    }
   ],
   "source": [
    "y.value_counts()"
   ]
  },
  {
   "cell_type": "code",
   "execution_count": 33,
   "metadata": {},
   "outputs": [
    {
     "data": {
      "image/png": "[encoded data removed]",
      "text/plain": [
       "<Figure size 1296x576 with 1 Axes>"
      ]
     },
     "metadata": {
      "needs_background": "light"
     },
     "output_type": "display_data"
    }
   ],
   "source": [
    "plt.figure(figsize=(18,8))\n",
    "plt.barh(y=labels,width=y.value_counts(),color=[\"seagreen\",\"crimson\"])\n",
    "plt.title(label=\"Class Size after oversampling\")\n",
    "plt.show()"
   ]
  },
  {
   "cell_type": "markdown",
   "metadata": {},
   "source": [
    "## Data Splitting"
   ]
  },
  {
   "cell_type": "code",
   "execution_count": 34,
   "metadata": {},
   "outputs": [],
   "source": [
    "X_train, X_test, y_train, y_test = train_test_split(X, y, test_size=0.2, random_state=42)"
   ]
  },
  {
   "cell_type": "code",
   "execution_count": 35,
   "metadata": {},
   "outputs": [
    {
     "name": "stdout",
     "output_type": "stream",
     "text": [
      "(4800, 21) (1200, 21) (4800,) (1200,)\n"
     ]
    }
   ],
   "source": [
    "print(X_train.shape,X_test.shape,y_train.shape,y_test.shape)"
   ]
  },
  {
   "cell_type": "markdown",
   "metadata": {},
   "source": [
    "## Model-1 RandomForestClassifier"
   ]
  },
  {
   "cell_type": "code",
   "execution_count": 36,
   "metadata": {},
   "outputs": [],
   "source": [
    "from sklearn.ensemble import RandomForestClassifier\n",
    "rfc = RandomForestClassifier(n_estimators=600)\n",
    "rfc.fit(X,y)\n",
    "predictions = rfc.predict(X_test)"
   ]
  },
  {
   "cell_type": "code",
   "execution_count": 37,
   "metadata": {},
   "outputs": [
    {
     "name": "stdout",
     "output_type": "stream",
     "text": [
      "[1 0 1 ... 0 1 1]\n"
     ]
    }
   ],
   "source": [
    "print(predictions)"
   ]
  },
  {
   "cell_type": "markdown",
   "metadata": {},
   "source": [
    "## Result Analysis"
   ]
  },
  {
   "cell_type": "code",
   "execution_count": 38,
   "metadata": {},
   "outputs": [],
   "source": [
    "class_labels=[\"No\",\"Yes\"]"
   ]
  },
  {
   "cell_type": "markdown",
   "metadata": {},
   "source": [
    "### Accuracy Score"
   ]
  },
  {
   "cell_type": "code",
   "execution_count": 39,
   "metadata": {},
   "outputs": [
    {
     "name": "stdout",
     "output_type": "stream",
     "text": [
      "Overall accuracy of RF model using test-set is 98.33%\n"
     ]
    }
   ],
   "source": [
    "RF_accuracy = accuracy_score(y_true=y_test, y_pred= predictions)\n",
    "print(\"Overall accuracy of RF model using test-set is {:.2f}%\" .format(RF_accuracy*100.0))"
   ]
  },
  {
   "cell_type": "markdown",
   "metadata": {},
   "source": [
    "### Classification Report"
   ]
  },
  {
   "cell_type": "code",
   "execution_count": 40,
   "metadata": {},
   "outputs": [
    {
     "name": "stdout",
     "output_type": "stream",
     "text": [
      "              precision    recall  f1-score   support\n",
      "\n",
      "          No       0.97      0.99      0.98       577\n",
      "         Yes       0.99      0.97      0.98       623\n",
      "\n",
      "    accuracy                           0.98      1200\n",
      "   macro avg       0.98      0.98      0.98      1200\n",
      "weighted avg       0.98      0.98      0.98      1200\n",
      "\n"
     ]
    }
   ],
   "source": [
    "print(classification_report(y_true=y_test, y_pred=predictions,target_names=class_labels))"
   ]
  },
  {
   "cell_type": "markdown",
   "metadata": {},
   "source": [
    "### Confusion Matrix"
   ]
  },
  {
   "cell_type": "code",
   "execution_count": 41,
   "metadata": {},
   "outputs": [
    {
     "data": {
      "image/png": "[encoded data removed]",
      "text/plain": [
       "<Figure size 720x360 with 1 Axes>"
      ]
     },
     "metadata": {
      "needs_background": "light"
     },
     "output_type": "display_data"
    }
   ],
   "source": [
    "from mlxtend.plotting import plot_confusion_matrix\n",
    "ax=plot_confusion_matrix(conf_mat=confusion_matrix(y_test, predictions),\n",
    "                        figsize=(10,5),\n",
    "                        class_names=class_labels,\n",
    "                        cmap=plt.cm.Greens)\n",
    "plt.title(label=\"Confusion Matrix\")\n",
    "plt.show()"
   ]
  },
  {
   "cell_type": "code",
   "execution_count": 42,
   "metadata": {},
   "outputs": [],
   "source": [
    "with open(file=\"models/RandomForestClassifier_model.pkl\",mode=\"wb\") as file:\n",
    "    pickle.dump(obj=rfc,file=file)"
   ]
  },
  {
   "cell_type": "markdown",
   "metadata": {},
   "source": [
    "## Model-2 ANN (Artificial Neural Network)"
   ]
  },
  {
   "cell_type": "code",
   "execution_count": 43,
   "metadata": {},
   "outputs": [],
   "source": [
    "# importing the libraries for deep learning model\n",
    "from tensorflow.keras.models import Sequential\n",
    "from tensorflow.keras.layers import Dense,Dropout\n",
    "from tensorflow.keras.optimizers import Adam"
   ]
  },
  {
   "cell_type": "code",
   "execution_count": 44,
   "metadata": {},
   "outputs": [],
   "source": [
    "input_dim = 21\n",
    "model = Sequential()\n",
    "model.add(Dense(64, input_dim = input_dim , activation = 'relu'))\n",
    "model.add(Dense(64, activation = 'relu'))\n",
    "model.add(Dense(128, activation = 'relu'))\n",
    "model.add(Dropout(0.2))\n",
    "model.add(Dense(256, activation = 'relu'))\n",
    "model.add(Dense(296, activation = 'relu'))\n",
    "model.add(Dropout(0.2))\n",
    "model.add(Dense(512, activation = 'relu'))\n",
    "model.add(Dense(1, activation = 'sigmoid'))\n",
    "model.compile(loss = 'binary_crossentropy' , optimizer = Adam(learning_rate=1e-4), metrics = ['accuracy'] )"
   ]
  },
  {
   "cell_type": "code",
   "execution_count": 45,
   "metadata": {},
   "outputs": [
    {
     "name": "stdout",
     "output_type": "stream",
     "text": [
      "Model: \"sequential\"\n",
      "_________________________________________________________________\n",
      " Layer (type)                Output Shape              Param #   \n",
      "=================================================================\n",
      " dense (Dense)               (None, 64)                1408      \n",
      "                                                                 \n",
      " dense_1 (Dense)             (None, 64)                4160      \n",
      "                                                                 \n",
      " dense_2 (Dense)             (None, 128)               8320      \n",
      "                                                                 \n",
      " dropout (Dropout)           (None, 128)               0         \n",
      "                                                                 \n",
      " dense_3 (Dense)             (None, 256)               33024     \n",
      "                                                                 \n",
      " dense_4 (Dense)             (None, 296)               76072     \n",
      "                                                                 \n",
      " dropout_1 (Dropout)         (None, 296)               0         \n",
      "                                                                 \n",
      " dense_5 (Dense)             (None, 512)               152064    \n",
      "                                                                 \n",
      " dense_6 (Dense)             (None, 1)                 513       \n",
      "                                                                 \n",
      "=================================================================\n",
      "Total params: 275,561\n",
      "Trainable params: 275,561\n",
      "Non-trainable params: 0\n",
      "_________________________________________________________________\n"
     ]
    }
   ],
   "source": [
    "model.summary()"
   ]
  },
  {
   "cell_type": "code",
   "execution_count": 54,
   "metadata": {},
   "outputs": [
    {
     "name": "stdout",
     "output_type": "stream",
     "text": [
      "Epoch 1/300\n",
      "94/94 [==============================] - 1s 8ms/step - loss: 0.2743 - accuracy: 0.8745 - val_loss: 0.2051 - val_accuracy: 0.9100\n",
      "Epoch 2/300\n",
      "94/94 [==============================] - 1s 8ms/step - loss: 0.2801 - accuracy: 0.8680 - val_loss: 0.1971 - val_accuracy: 0.9117\n",
      "Epoch 3/300\n",
      "94/94 [==============================] - 1s 8ms/step - loss: 0.2678 - accuracy: 0.8757 - val_loss: 0.2085 - val_accuracy: 0.9067\n",
      "Epoch 4/300\n",
      "94/94 [==============================] - 1s 8ms/step - loss: 0.2707 - accuracy: 0.8712 - val_loss: 0.2062 - val_accuracy: 0.9075\n",
      "Epoch 5/300\n",
      "94/94 [==============================] - 1s 8ms/step - loss: 0.2686 - accuracy: 0.8747 - val_loss: 0.2101 - val_accuracy: 0.9108\n",
      "Epoch 6/300\n",
      "94/94 [==============================] - 1s 8ms/step - loss: 0.2808 - accuracy: 0.8693 - val_loss: 0.2073 - val_accuracy: 0.9100\n",
      "Epoch 7/300\n",
      "94/94 [==============================] - 1s 8ms/step - loss: 0.2762 - accuracy: 0.8648 - val_loss: 0.2029 - val_accuracy: 0.9117\n",
      "Epoch 8/300\n",
      "94/94 [==============================] - 1s 10ms/step - loss: 0.2735 - accuracy: 0.8727 - val_loss: 0.2084 - val_accuracy: 0.9058\n",
      "Epoch 9/300\n",
      "94/94 [==============================] - 1s 9ms/step - loss: 0.2731 - accuracy: 0.8752 - val_loss: 0.2080 - val_accuracy: 0.9092\n",
      "Epoch 10/300\n",
      "94/94 [==============================] - 1s 8ms/step - loss: 0.2737 - accuracy: 0.8745 - val_loss: 0.2028 - val_accuracy: 0.9075\n",
      "Epoch 11/300\n",
      "94/94 [==============================] - 1s 8ms/step - loss: 0.2758 - accuracy: 0.8690 - val_loss: 0.2012 - val_accuracy: 0.9183\n",
      "Epoch 12/300\n",
      "94/94 [==============================] - 1s 8ms/step - loss: 0.2669 - accuracy: 0.8735 - val_loss: 0.2046 - val_accuracy: 0.9108\n",
      "Epoch 13/300\n",
      "94/94 [==============================] - 1s 8ms/step - loss: 0.2802 - accuracy: 0.8668 - val_loss: 0.1938 - val_accuracy: 0.9183\n",
      "Epoch 14/300\n",
      "94/94 [==============================] - 1s 9ms/step - loss: 0.2703 - accuracy: 0.8748 - val_loss: 0.1976 - val_accuracy: 0.9125\n",
      "Epoch 15/300\n",
      "94/94 [==============================] - 1s 8ms/step - loss: 0.2785 - accuracy: 0.8715 - val_loss: 0.1973 - val_accuracy: 0.9108\n",
      "Epoch 16/300\n",
      "94/94 [==============================] - 1s 9ms/step - loss: 0.2611 - accuracy: 0.8790 - val_loss: 0.1992 - val_accuracy: 0.9100\n",
      "Epoch 17/300\n",
      "94/94 [==============================] - 1s 9ms/step - loss: 0.2681 - accuracy: 0.8778 - val_loss: 0.1929 - val_accuracy: 0.9092\n",
      "Epoch 18/300\n",
      "94/94 [==============================] - 1s 10ms/step - loss: 0.2738 - accuracy: 0.8772 - val_loss: 0.2021 - val_accuracy: 0.9192\n",
      "Epoch 19/300\n",
      "94/94 [==============================] - 1s 10ms/step - loss: 0.2650 - accuracy: 0.8753 - val_loss: 0.1946 - val_accuracy: 0.9125\n",
      "Epoch 20/300\n",
      "94/94 [==============================] - 1s 11ms/step - loss: 0.2722 - accuracy: 0.8733 - val_loss: 0.2008 - val_accuracy: 0.9125\n",
      "Epoch 21/300\n",
      "94/94 [==============================] - 1s 10ms/step - loss: 0.2621 - accuracy: 0.8783 - val_loss: 0.1991 - val_accuracy: 0.9150\n",
      "Epoch 22/300\n",
      "94/94 [==============================] - 1s 10ms/step - loss: 0.2710 - accuracy: 0.8737 - val_loss: 0.2004 - val_accuracy: 0.9133\n",
      "Epoch 23/300\n",
      "94/94 [==============================] - 1s 10ms/step - loss: 0.2714 - accuracy: 0.8797 - val_loss: 0.1950 - val_accuracy: 0.9158\n",
      "Epoch 24/300\n",
      "94/94 [==============================] - 1s 13ms/step - loss: 0.2715 - accuracy: 0.8722 - val_loss: 0.1989 - val_accuracy: 0.9117\n",
      "Epoch 25/300\n",
      "94/94 [==============================] - 1s 12ms/step - loss: 0.2722 - accuracy: 0.8767 - val_loss: 0.2065 - val_accuracy: 0.9058\n",
      "Epoch 26/300\n",
      "94/94 [==============================] - 1s 12ms/step - loss: 0.2691 - accuracy: 0.8758 - val_loss: 0.1953 - val_accuracy: 0.9108\n",
      "Epoch 27/300\n",
      "94/94 [==============================] - 1s 11ms/step - loss: 0.2778 - accuracy: 0.8703 - val_loss: 0.1913 - val_accuracy: 0.9158\n",
      "Epoch 28/300\n",
      "94/94 [==============================] - 1s 12ms/step - loss: 0.2609 - accuracy: 0.8818 - val_loss: 0.1876 - val_accuracy: 0.9175\n",
      "Epoch 29/300\n",
      "94/94 [==============================] - 1s 10ms/step - loss: 0.2658 - accuracy: 0.8817 - val_loss: 0.1933 - val_accuracy: 0.9158\n",
      "Epoch 30/300\n",
      "94/94 [==============================] - 1s 10ms/step - loss: 0.2651 - accuracy: 0.8813 - val_loss: 0.1913 - val_accuracy: 0.9183\n",
      "Epoch 31/300\n",
      "94/94 [==============================] - ETA: 0s - loss: 0.2690 - accuracy: 0.8762 ETA: 0s - loss: 0 - 1s 9ms/step - loss: 0.2707 - accuracy: 0.8752 - val_loss: 0.1900 - val_accuracy: 0.9192\n",
      "Epoch 32/300\n",
      "94/94 [==============================] - 1s 8ms/step - loss: 0.2670 - accuracy: 0.8770 - val_loss: 0.2047 - val_accuracy: 0.9108\n",
      "Epoch 33/300\n",
      "94/94 [==============================] - 1s 8ms/step - loss: 0.2582 - accuracy: 0.8807 - val_loss: 0.1888 - val_accuracy: 0.9233\n",
      "Epoch 34/300\n",
      "94/94 [==============================] - 1s 8ms/step - loss: 0.2651 - accuracy: 0.8750 - val_loss: 0.1892 - val_accuracy: 0.9125\n",
      "Epoch 35/300\n",
      "94/94 [==============================] - 1s 8ms/step - loss: 0.2632 - accuracy: 0.8760 - val_loss: 0.1912 - val_accuracy: 0.9150\n",
      "Epoch 36/300\n",
      "94/94 [==============================] - 1s 8ms/step - loss: 0.2603 - accuracy: 0.8838 - val_loss: 0.1876 - val_accuracy: 0.9158\n",
      "Epoch 37/300\n",
      "94/94 [==============================] - 1s 8ms/step - loss: 0.2589 - accuracy: 0.8787 - val_loss: 0.1949 - val_accuracy: 0.9100\n",
      "Epoch 38/300\n",
      "94/94 [==============================] - 1s 8ms/step - loss: 0.2627 - accuracy: 0.8823 - val_loss: 0.1877 - val_accuracy: 0.9158\n",
      "Epoch 39/300\n",
      "94/94 [==============================] - 1s 11ms/step - loss: 0.2629 - accuracy: 0.8817 - val_loss: 0.1942 - val_accuracy: 0.9142\n",
      "Epoch 40/300\n",
      "94/94 [==============================] - 1s 13ms/step - loss: 0.2543 - accuracy: 0.8832 - val_loss: 0.1830 - val_accuracy: 0.9158\n",
      "Epoch 41/300\n",
      "94/94 [==============================] - 1s 13ms/step - loss: 0.2576 - accuracy: 0.8782 - val_loss: 0.1908 - val_accuracy: 0.9142\n",
      "Epoch 42/300\n",
      "94/94 [==============================] - 1s 8ms/step - loss: 0.2447 - accuracy: 0.8860 - val_loss: 0.1938 - val_accuracy: 0.9125\n",
      "Epoch 43/300\n",
      "94/94 [==============================] - 1s 10ms/step - loss: 0.2639 - accuracy: 0.8773 - val_loss: 0.1970 - val_accuracy: 0.9058\n",
      "Epoch 44/300\n",
      "94/94 [==============================] - 1s 10ms/step - loss: 0.2525 - accuracy: 0.8860 - val_loss: 0.1840 - val_accuracy: 0.9225\n",
      "Epoch 45/300\n",
      "94/94 [==============================] - 1s 9ms/step - loss: 0.2637 - accuracy: 0.8768 - val_loss: 0.1812 - val_accuracy: 0.9150\n",
      "Epoch 46/300\n",
      "94/94 [==============================] - 1s 8ms/step - loss: 0.2571 - accuracy: 0.8793 - val_loss: 0.1888 - val_accuracy: 0.9125\n",
      "Epoch 47/300\n",
      "94/94 [==============================] - 1s 8ms/step - loss: 0.2584 - accuracy: 0.8810 - val_loss: 0.1852 - val_accuracy: 0.9133\n",
      "Epoch 48/300\n",
      "94/94 [==============================] - 1s 8ms/step - loss: 0.2609 - accuracy: 0.8767 - val_loss: 0.1852 - val_accuracy: 0.9183\n",
      "Epoch 49/300\n",
      "94/94 [==============================] - 1s 8ms/step - loss: 0.2605 - accuracy: 0.8817 - val_loss: 0.1933 - val_accuracy: 0.9200\n",
      "Epoch 50/300\n",
      "94/94 [==============================] - 1s 8ms/step - loss: 0.2512 - accuracy: 0.8818 - val_loss: 0.1898 - val_accuracy: 0.9125\n",
      "Epoch 51/300\n",
      "94/94 [==============================] - 1s 8ms/step - loss: 0.2483 - accuracy: 0.8825 - val_loss: 0.1782 - val_accuracy: 0.9233\n",
      "Epoch 52/300\n",
      "94/94 [==============================] - 1s 8ms/step - loss: 0.2454 - accuracy: 0.8870 - val_loss: 0.1826 - val_accuracy: 0.9208\n",
      "Epoch 53/300\n",
      "94/94 [==============================] - 1s 8ms/step - loss: 0.2453 - accuracy: 0.8895 - val_loss: 0.1818 - val_accuracy: 0.9183\n",
      "Epoch 54/300\n",
      "94/94 [==============================] - 1s 8ms/step - loss: 0.2591 - accuracy: 0.8810 - val_loss: 0.1912 - val_accuracy: 0.9133\n",
      "Epoch 55/300\n",
      "94/94 [==============================] - 1s 8ms/step - loss: 0.2637 - accuracy: 0.8795 - val_loss: 0.1798 - val_accuracy: 0.9175\n",
      "Epoch 56/300\n",
      "94/94 [==============================] - 1s 9ms/step - loss: 0.2636 - accuracy: 0.8720 - val_loss: 0.1847 - val_accuracy: 0.9208\n",
      "Epoch 57/300\n",
      "94/94 [==============================] - 1s 8ms/step - loss: 0.2539 - accuracy: 0.8850 - val_loss: 0.1788 - val_accuracy: 0.9225\n",
      "Epoch 58/300\n"
     ]
    },
    {
     "name": "stdout",
     "output_type": "stream",
     "text": [
      "94/94 [==============================] - 1s 8ms/step - loss: 0.2555 - accuracy: 0.8787 - val_loss: 0.1824 - val_accuracy: 0.9183\n",
      "Epoch 59/300\n",
      "94/94 [==============================] - 1s 7ms/step - loss: 0.2500 - accuracy: 0.8850 - val_loss: 0.1897 - val_accuracy: 0.9242\n",
      "Epoch 60/300\n",
      "94/94 [==============================] - 1s 7ms/step - loss: 0.2540 - accuracy: 0.8820 - val_loss: 0.1835 - val_accuracy: 0.9167\n",
      "Epoch 61/300\n",
      "94/94 [==============================] - 1s 7ms/step - loss: 0.2596 - accuracy: 0.8835 - val_loss: 0.1808 - val_accuracy: 0.9225\n",
      "Epoch 62/300\n",
      "94/94 [==============================] - 1s 7ms/step - loss: 0.2491 - accuracy: 0.8838 - val_loss: 0.1844 - val_accuracy: 0.9242\n",
      "Epoch 63/300\n",
      "94/94 [==============================] - 1s 7ms/step - loss: 0.2577 - accuracy: 0.8820 - val_loss: 0.1830 - val_accuracy: 0.9183\n",
      "Epoch 64/300\n",
      "94/94 [==============================] - 1s 7ms/step - loss: 0.2492 - accuracy: 0.8837 - val_loss: 0.1798 - val_accuracy: 0.9217\n",
      "Epoch 65/300\n",
      "94/94 [==============================] - 1s 7ms/step - loss: 0.2438 - accuracy: 0.8853 - val_loss: 0.1797 - val_accuracy: 0.9225\n",
      "Epoch 66/300\n",
      "94/94 [==============================] - 1s 7ms/step - loss: 0.2485 - accuracy: 0.8835 - val_loss: 0.1787 - val_accuracy: 0.9258\n",
      "Epoch 67/300\n",
      "94/94 [==============================] - 1s 7ms/step - loss: 0.2483 - accuracy: 0.8808 - val_loss: 0.1834 - val_accuracy: 0.9208\n",
      "Epoch 68/300\n",
      "94/94 [==============================] - 1s 7ms/step - loss: 0.2461 - accuracy: 0.8850 - val_loss: 0.1765 - val_accuracy: 0.9200\n",
      "Epoch 69/300\n",
      "94/94 [==============================] - 1s 7ms/step - loss: 0.2518 - accuracy: 0.8790 - val_loss: 0.1862 - val_accuracy: 0.9167\n",
      "Epoch 70/300\n",
      "94/94 [==============================] - 1s 8ms/step - loss: 0.2511 - accuracy: 0.8855 - val_loss: 0.1821 - val_accuracy: 0.9208\n",
      "Epoch 71/300\n",
      "94/94 [==============================] - 1s 8ms/step - loss: 0.2504 - accuracy: 0.8853 - val_loss: 0.1760 - val_accuracy: 0.9192\n",
      "Epoch 72/300\n",
      "94/94 [==============================] - 1s 8ms/step - loss: 0.2394 - accuracy: 0.8898 - val_loss: 0.1758 - val_accuracy: 0.9217\n",
      "Epoch 73/300\n",
      "94/94 [==============================] - 1s 7ms/step - loss: 0.2443 - accuracy: 0.8855 - val_loss: 0.1730 - val_accuracy: 0.9217\n",
      "Epoch 74/300\n",
      "94/94 [==============================] - 1s 7ms/step - loss: 0.2494 - accuracy: 0.8877 - val_loss: 0.1914 - val_accuracy: 0.9167\n",
      "Epoch 75/300\n",
      "94/94 [==============================] - 1s 8ms/step - loss: 0.2491 - accuracy: 0.8868 - val_loss: 0.1751 - val_accuracy: 0.9233\n",
      "Epoch 76/300\n",
      "94/94 [==============================] - 1s 7ms/step - loss: 0.2498 - accuracy: 0.8830 - val_loss: 0.1828 - val_accuracy: 0.9175\n",
      "Epoch 77/300\n",
      "94/94 [==============================] - 1s 7ms/step - loss: 0.2374 - accuracy: 0.8865 - val_loss: 0.1694 - val_accuracy: 0.9300\n",
      "Epoch 78/300\n",
      "94/94 [==============================] - 1s 8ms/step - loss: 0.2376 - accuracy: 0.8897 - val_loss: 0.1726 - val_accuracy: 0.9242\n",
      "Epoch 79/300\n",
      "94/94 [==============================] - 1s 7ms/step - loss: 0.2515 - accuracy: 0.8888 - val_loss: 0.1714 - val_accuracy: 0.9267\n",
      "Epoch 80/300\n",
      "94/94 [==============================] - 1s 7ms/step - loss: 0.2491 - accuracy: 0.8867 - val_loss: 0.1762 - val_accuracy: 0.9192\n",
      "Epoch 81/300\n",
      "94/94 [==============================] - 1s 7ms/step - loss: 0.2384 - accuracy: 0.8892 - val_loss: 0.1668 - val_accuracy: 0.9258\n",
      "Epoch 82/300\n",
      "94/94 [==============================] - 1s 7ms/step - loss: 0.2381 - accuracy: 0.8878 - val_loss: 0.1695 - val_accuracy: 0.9283\n",
      "Epoch 83/300\n",
      "94/94 [==============================] - 1s 8ms/step - loss: 0.2394 - accuracy: 0.8905 - val_loss: 0.1781 - val_accuracy: 0.9217\n",
      "Epoch 84/300\n",
      "94/94 [==============================] - 1s 7ms/step - loss: 0.2412 - accuracy: 0.8917 - val_loss: 0.1679 - val_accuracy: 0.9233\n",
      "Epoch 85/300\n",
      "94/94 [==============================] - 1s 8ms/step - loss: 0.2380 - accuracy: 0.8873 - val_loss: 0.1770 - val_accuracy: 0.9192\n",
      "Epoch 86/300\n",
      "94/94 [==============================] - 1s 8ms/step - loss: 0.2479 - accuracy: 0.8812 - val_loss: 0.1696 - val_accuracy: 0.9308\n",
      "Epoch 87/300\n",
      "94/94 [==============================] - 1s 7ms/step - loss: 0.2452 - accuracy: 0.8893 - val_loss: 0.1725 - val_accuracy: 0.9208\n",
      "Epoch 88/300\n",
      "94/94 [==============================] - 1s 7ms/step - loss: 0.2428 - accuracy: 0.8872 - val_loss: 0.1698 - val_accuracy: 0.9233\n",
      "Epoch 89/300\n",
      "94/94 [==============================] - 1s 8ms/step - loss: 0.2500 - accuracy: 0.8815 - val_loss: 0.1693 - val_accuracy: 0.9292\n",
      "Epoch 90/300\n",
      "94/94 [==============================] - 1s 7ms/step - loss: 0.2423 - accuracy: 0.8908 - val_loss: 0.1665 - val_accuracy: 0.9250\n",
      "Epoch 91/300\n",
      "94/94 [==============================] - 1s 7ms/step - loss: 0.2466 - accuracy: 0.8845 - val_loss: 0.1750 - val_accuracy: 0.9200\n",
      "Epoch 92/300\n",
      "94/94 [==============================] - 1s 7ms/step - loss: 0.2447 - accuracy: 0.8910 - val_loss: 0.1697 - val_accuracy: 0.9183\n",
      "Epoch 93/300\n",
      "94/94 [==============================] - 1s 7ms/step - loss: 0.2355 - accuracy: 0.8942 - val_loss: 0.1742 - val_accuracy: 0.9250\n",
      "Epoch 94/300\n",
      "94/94 [==============================] - 1s 7ms/step - loss: 0.2404 - accuracy: 0.8888 - val_loss: 0.1816 - val_accuracy: 0.9192\n",
      "Epoch 95/300\n",
      "94/94 [==============================] - 1s 8ms/step - loss: 0.2406 - accuracy: 0.8903 - val_loss: 0.1624 - val_accuracy: 0.9258\n",
      "Epoch 96/300\n",
      "94/94 [==============================] - 1s 8ms/step - loss: 0.2404 - accuracy: 0.8913 - val_loss: 0.1745 - val_accuracy: 0.9158\n",
      "Epoch 97/300\n",
      "94/94 [==============================] - 1s 7ms/step - loss: 0.2402 - accuracy: 0.8900 - val_loss: 0.1753 - val_accuracy: 0.9183\n",
      "Epoch 98/300\n",
      "94/94 [==============================] - 1s 7ms/step - loss: 0.2382 - accuracy: 0.8892 - val_loss: 0.1598 - val_accuracy: 0.9283\n",
      "Epoch 99/300\n",
      "94/94 [==============================] - 1s 8ms/step - loss: 0.2331 - accuracy: 0.8935 - val_loss: 0.1633 - val_accuracy: 0.9258\n",
      "Epoch 100/300\n",
      "94/94 [==============================] - 1s 7ms/step - loss: 0.2367 - accuracy: 0.8887 - val_loss: 0.1665 - val_accuracy: 0.9292\n",
      "Epoch 101/300\n",
      "94/94 [==============================] - 1s 8ms/step - loss: 0.2315 - accuracy: 0.8915 - val_loss: 0.1651 - val_accuracy: 0.9258\n",
      "Epoch 102/300\n",
      "94/94 [==============================] - 1s 7ms/step - loss: 0.2322 - accuracy: 0.8947 - val_loss: 0.1622 - val_accuracy: 0.9275\n",
      "Epoch 103/300\n",
      "94/94 [==============================] - 1s 8ms/step - loss: 0.2356 - accuracy: 0.8878 - val_loss: 0.1699 - val_accuracy: 0.9283\n",
      "Epoch 104/300\n",
      "94/94 [==============================] - 1s 8ms/step - loss: 0.2332 - accuracy: 0.8930 - val_loss: 0.1684 - val_accuracy: 0.9233\n",
      "Epoch 105/300\n",
      "94/94 [==============================] - 1s 8ms/step - loss: 0.2341 - accuracy: 0.8910 - val_loss: 0.1717 - val_accuracy: 0.9225\n",
      "Epoch 106/300\n",
      "94/94 [==============================] - 1s 7ms/step - loss: 0.2270 - accuracy: 0.8975 - val_loss: 0.1611 - val_accuracy: 0.9300\n",
      "Epoch 107/300\n",
      "94/94 [==============================] - 1s 7ms/step - loss: 0.2297 - accuracy: 0.8893 - val_loss: 0.1595 - val_accuracy: 0.9275\n",
      "Epoch 108/300\n",
      "94/94 [==============================] - 1s 7ms/step - loss: 0.2303 - accuracy: 0.8938 - val_loss: 0.1749 - val_accuracy: 0.9175\n",
      "Epoch 109/300\n",
      "94/94 [==============================] - 1s 8ms/step - loss: 0.2393 - accuracy: 0.8865 - val_loss: 0.1656 - val_accuracy: 0.9283\n",
      "Epoch 110/300\n",
      "94/94 [==============================] - 1s 8ms/step - loss: 0.2322 - accuracy: 0.8922 - val_loss: 0.1839 - val_accuracy: 0.9125\n",
      "Epoch 111/300\n",
      "94/94 [==============================] - 1s 8ms/step - loss: 0.2285 - accuracy: 0.8928 - val_loss: 0.1618 - val_accuracy: 0.9250\n",
      "Epoch 112/300\n",
      "94/94 [==============================] - 1s 8ms/step - loss: 0.2336 - accuracy: 0.8933 - val_loss: 0.1629 - val_accuracy: 0.9250\n",
      "Epoch 113/300\n",
      "94/94 [==============================] - 1s 9ms/step - loss: 0.2261 - accuracy: 0.8947 - val_loss: 0.1677 - val_accuracy: 0.9242\n",
      "Epoch 114/300\n",
      "94/94 [==============================] - 1s 13ms/step - loss: 0.2428 - accuracy: 0.8902 - val_loss: 0.1754 - val_accuracy: 0.9183\n",
      "Epoch 115/300\n"
     ]
    },
    {
     "name": "stdout",
     "output_type": "stream",
     "text": [
      "94/94 [==============================] - 1s 13ms/step - loss: 0.2324 - accuracy: 0.8937 - val_loss: 0.1594 - val_accuracy: 0.9208\n",
      "Epoch 116/300\n",
      "94/94 [==============================] - 1s 13ms/step - loss: 0.2293 - accuracy: 0.8960 - val_loss: 0.1580 - val_accuracy: 0.9333\n",
      "Epoch 117/300\n",
      "94/94 [==============================] - 1s 10ms/step - loss: 0.2252 - accuracy: 0.8963 - val_loss: 0.1635 - val_accuracy: 0.9283\n",
      "Epoch 118/300\n",
      "94/94 [==============================] - 1s 10ms/step - loss: 0.2297 - accuracy: 0.8963 - val_loss: 0.1667 - val_accuracy: 0.9267\n",
      "Epoch 119/300\n",
      "94/94 [==============================] - 1s 9ms/step - loss: 0.2243 - accuracy: 0.8945 - val_loss: 0.1576 - val_accuracy: 0.9325\n",
      "Epoch 120/300\n",
      "94/94 [==============================] - 1s 9ms/step - loss: 0.2308 - accuracy: 0.8935 - val_loss: 0.1648 - val_accuracy: 0.9258\n",
      "Epoch 121/300\n",
      "94/94 [==============================] - 1s 10ms/step - loss: 0.2338 - accuracy: 0.8910 - val_loss: 0.1619 - val_accuracy: 0.9275\n",
      "Epoch 122/300\n",
      "94/94 [==============================] - 1s 8ms/step - loss: 0.2257 - accuracy: 0.8963 - val_loss: 0.1574 - val_accuracy: 0.9292\n",
      "Epoch 123/300\n",
      "94/94 [==============================] - 1s 8ms/step - loss: 0.2276 - accuracy: 0.8955 - val_loss: 0.1608 - val_accuracy: 0.9300\n",
      "Epoch 124/300\n",
      "94/94 [==============================] - 1s 8ms/step - loss: 0.2239 - accuracy: 0.8933 - val_loss: 0.1579 - val_accuracy: 0.9325\n",
      "Epoch 125/300\n",
      "94/94 [==============================] - 1s 8ms/step - loss: 0.2258 - accuracy: 0.8925 - val_loss: 0.1561 - val_accuracy: 0.9333\n",
      "Epoch 126/300\n",
      "94/94 [==============================] - 1s 7ms/step - loss: 0.2252 - accuracy: 0.8962 - val_loss: 0.1636 - val_accuracy: 0.9333\n",
      "Epoch 127/300\n",
      "94/94 [==============================] - 1s 7ms/step - loss: 0.2299 - accuracy: 0.8965 - val_loss: 0.1605 - val_accuracy: 0.9283\n",
      "Epoch 128/300\n",
      "94/94 [==============================] - 1s 8ms/step - loss: 0.2216 - accuracy: 0.8985 - val_loss: 0.1622 - val_accuracy: 0.9292\n",
      "Epoch 129/300\n",
      "94/94 [==============================] - 1s 7ms/step - loss: 0.2354 - accuracy: 0.8958 - val_loss: 0.1630 - val_accuracy: 0.9250\n",
      "Epoch 130/300\n",
      "94/94 [==============================] - 1s 8ms/step - loss: 0.2284 - accuracy: 0.8952 - val_loss: 0.1596 - val_accuracy: 0.9283\n",
      "Epoch 131/300\n",
      "94/94 [==============================] - 1s 7ms/step - loss: 0.2298 - accuracy: 0.8948 - val_loss: 0.1614 - val_accuracy: 0.9275\n",
      "Epoch 132/300\n",
      "94/94 [==============================] - 1s 7ms/step - loss: 0.2236 - accuracy: 0.8992 - val_loss: 0.1632 - val_accuracy: 0.9308\n",
      "Epoch 133/300\n",
      "94/94 [==============================] - 1s 7ms/step - loss: 0.2231 - accuracy: 0.8975 - val_loss: 0.1572 - val_accuracy: 0.9292\n",
      "Epoch 134/300\n",
      "94/94 [==============================] - 1s 7ms/step - loss: 0.2321 - accuracy: 0.8943 - val_loss: 0.1534 - val_accuracy: 0.9367\n",
      "Epoch 135/300\n",
      "94/94 [==============================] - 1s 7ms/step - loss: 0.2200 - accuracy: 0.9000 - val_loss: 0.1550 - val_accuracy: 0.9308\n",
      "Epoch 136/300\n",
      "94/94 [==============================] - 1s 7ms/step - loss: 0.2213 - accuracy: 0.8977 - val_loss: 0.1537 - val_accuracy: 0.9317\n",
      "Epoch 137/300\n",
      "94/94 [==============================] - 1s 7ms/step - loss: 0.2253 - accuracy: 0.8962 - val_loss: 0.1588 - val_accuracy: 0.9325\n",
      "Epoch 138/300\n",
      "94/94 [==============================] - 1s 7ms/step - loss: 0.2279 - accuracy: 0.8980 - val_loss: 0.1613 - val_accuracy: 0.9275\n",
      "Epoch 139/300\n",
      "94/94 [==============================] - 1s 7ms/step - loss: 0.2228 - accuracy: 0.8988 - val_loss: 0.1624 - val_accuracy: 0.9267\n",
      "Epoch 140/300\n",
      "94/94 [==============================] - 1s 7ms/step - loss: 0.2234 - accuracy: 0.8997 - val_loss: 0.1606 - val_accuracy: 0.9325\n",
      "Epoch 141/300\n",
      "94/94 [==============================] - 1s 7ms/step - loss: 0.2127 - accuracy: 0.9045 - val_loss: 0.1525 - val_accuracy: 0.9367\n",
      "Epoch 142/300\n",
      "94/94 [==============================] - 1s 7ms/step - loss: 0.2203 - accuracy: 0.9028 - val_loss: 0.1495 - val_accuracy: 0.9333\n",
      "Epoch 143/300\n",
      "94/94 [==============================] - 1s 7ms/step - loss: 0.2229 - accuracy: 0.8995 - val_loss: 0.1530 - val_accuracy: 0.9350\n",
      "Epoch 144/300\n",
      "94/94 [==============================] - 1s 7ms/step - loss: 0.2179 - accuracy: 0.9010 - val_loss: 0.1498 - val_accuracy: 0.9342\n",
      "Epoch 145/300\n",
      "94/94 [==============================] - 1s 7ms/step - loss: 0.2260 - accuracy: 0.8940 - val_loss: 0.1578 - val_accuracy: 0.9325\n",
      "Epoch 146/300\n",
      "94/94 [==============================] - 1s 7ms/step - loss: 0.2315 - accuracy: 0.8957 - val_loss: 0.1608 - val_accuracy: 0.9300\n",
      "Epoch 147/300\n",
      "94/94 [==============================] - 1s 7ms/step - loss: 0.2231 - accuracy: 0.9008 - val_loss: 0.1614 - val_accuracy: 0.9300\n",
      "Epoch 148/300\n",
      "94/94 [==============================] - 1s 7ms/step - loss: 0.2230 - accuracy: 0.8945 - val_loss: 0.1596 - val_accuracy: 0.9275\n",
      "Epoch 149/300\n",
      "94/94 [==============================] - 1s 7ms/step - loss: 0.2175 - accuracy: 0.8987 - val_loss: 0.1531 - val_accuracy: 0.9317\n",
      "Epoch 150/300\n",
      "94/94 [==============================] - 1s 7ms/step - loss: 0.2171 - accuracy: 0.9023 - val_loss: 0.1470 - val_accuracy: 0.9375\n",
      "Epoch 151/300\n",
      "94/94 [==============================] - 1s 7ms/step - loss: 0.2189 - accuracy: 0.9020 - val_loss: 0.1557 - val_accuracy: 0.9250\n",
      "Epoch 152/300\n",
      "94/94 [==============================] - 1s 7ms/step - loss: 0.2161 - accuracy: 0.9017 - val_loss: 0.1629 - val_accuracy: 0.9267\n",
      "Epoch 153/300\n",
      "94/94 [==============================] - 1s 8ms/step - loss: 0.2171 - accuracy: 0.9005 - val_loss: 0.1499 - val_accuracy: 0.9300\n",
      "Epoch 154/300\n",
      "94/94 [==============================] - 1s 9ms/step - loss: 0.2185 - accuracy: 0.9028 - val_loss: 0.1546 - val_accuracy: 0.9333\n",
      "Epoch 155/300\n",
      "94/94 [==============================] - 1s 13ms/step - loss: 0.2205 - accuracy: 0.8980 - val_loss: 0.1524 - val_accuracy: 0.9308\n",
      "Epoch 156/300\n",
      "94/94 [==============================] - 1s 10ms/step - loss: 0.2201 - accuracy: 0.8975 - val_loss: 0.1546 - val_accuracy: 0.9292\n",
      "Epoch 157/300\n",
      "94/94 [==============================] - 1s 10ms/step - loss: 0.2165 - accuracy: 0.8980 - val_loss: 0.1489 - val_accuracy: 0.9375\n",
      "Epoch 158/300\n",
      "94/94 [==============================] - 1s 8ms/step - loss: 0.2189 - accuracy: 0.9007 - val_loss: 0.1466 - val_accuracy: 0.9400\n",
      "Epoch 159/300\n",
      "94/94 [==============================] - 1s 8ms/step - loss: 0.2100 - accuracy: 0.9048 - val_loss: 0.1516 - val_accuracy: 0.9325\n",
      "Epoch 160/300\n",
      "94/94 [==============================] - 1s 9ms/step - loss: 0.2104 - accuracy: 0.9048 - val_loss: 0.1540 - val_accuracy: 0.9325\n",
      "Epoch 161/300\n",
      "94/94 [==============================] - 1s 8ms/step - loss: 0.2217 - accuracy: 0.9002 - val_loss: 0.1543 - val_accuracy: 0.9325\n",
      "Epoch 162/300\n",
      "94/94 [==============================] - 1s 7ms/step - loss: 0.2176 - accuracy: 0.8960 - val_loss: 0.1511 - val_accuracy: 0.9358\n",
      "Epoch 163/300\n",
      "94/94 [==============================] - 1s 8ms/step - loss: 0.2142 - accuracy: 0.9015 - val_loss: 0.1494 - val_accuracy: 0.9350\n",
      "Epoch 164/300\n",
      "94/94 [==============================] - 1s 9ms/step - loss: 0.2208 - accuracy: 0.8960 - val_loss: 0.1569 - val_accuracy: 0.9317\n",
      "Epoch 165/300\n",
      "94/94 [==============================] - 1s 8ms/step - loss: 0.2251 - accuracy: 0.8963 - val_loss: 0.1469 - val_accuracy: 0.9317\n",
      "Epoch 166/300\n",
      "94/94 [==============================] - 1s 8ms/step - loss: 0.2135 - accuracy: 0.9028 - val_loss: 0.1483 - val_accuracy: 0.9333\n",
      "Epoch 167/300\n",
      "94/94 [==============================] - 1s 8ms/step - loss: 0.2120 - accuracy: 0.9053 - val_loss: 0.1510 - val_accuracy: 0.9333\n",
      "Epoch 168/300\n",
      "94/94 [==============================] - 1s 8ms/step - loss: 0.2141 - accuracy: 0.9017 - val_loss: 0.1438 - val_accuracy: 0.9358\n",
      "Epoch 169/300\n",
      "94/94 [==============================] - 1s 8ms/step - loss: 0.2200 - accuracy: 0.9018 - val_loss: 0.1524 - val_accuracy: 0.9350\n",
      "Epoch 170/300\n",
      "94/94 [==============================] - 1s 8ms/step - loss: 0.2110 - accuracy: 0.9050 - val_loss: 0.1470 - val_accuracy: 0.9350\n",
      "Epoch 171/300\n",
      "94/94 [==============================] - 1s 7ms/step - loss: 0.2160 - accuracy: 0.8988 - val_loss: 0.1431 - val_accuracy: 0.9375\n",
      "Epoch 172/300\n"
     ]
    },
    {
     "name": "stdout",
     "output_type": "stream",
     "text": [
      "94/94 [==============================] - 1s 7ms/step - loss: 0.2089 - accuracy: 0.9052 - val_loss: 0.1406 - val_accuracy: 0.9358\n",
      "Epoch 173/300\n",
      "94/94 [==============================] - 1s 7ms/step - loss: 0.2089 - accuracy: 0.8997 - val_loss: 0.1474 - val_accuracy: 0.9333\n",
      "Epoch 174/300\n",
      "94/94 [==============================] - 1s 7ms/step - loss: 0.2246 - accuracy: 0.8977 - val_loss: 0.1462 - val_accuracy: 0.9350\n",
      "Epoch 175/300\n",
      "94/94 [==============================] - 1s 7ms/step - loss: 0.2212 - accuracy: 0.8995 - val_loss: 0.1455 - val_accuracy: 0.9392\n",
      "Epoch 176/300\n",
      "94/94 [==============================] - 1s 7ms/step - loss: 0.2102 - accuracy: 0.9040 - val_loss: 0.1374 - val_accuracy: 0.9375\n",
      "Epoch 177/300\n",
      "94/94 [==============================] - 1s 7ms/step - loss: 0.2021 - accuracy: 0.9060 - val_loss: 0.1439 - val_accuracy: 0.9392\n",
      "Epoch 178/300\n",
      "94/94 [==============================] - 1s 7ms/step - loss: 0.2110 - accuracy: 0.9038 - val_loss: 0.1487 - val_accuracy: 0.9350\n",
      "Epoch 179/300\n",
      "94/94 [==============================] - 1s 7ms/step - loss: 0.2082 - accuracy: 0.9040 - val_loss: 0.1550 - val_accuracy: 0.9308\n",
      "Epoch 180/300\n",
      "94/94 [==============================] - 1s 7ms/step - loss: 0.2194 - accuracy: 0.9017 - val_loss: 0.1506 - val_accuracy: 0.9375\n",
      "Epoch 181/300\n",
      "94/94 [==============================] - 1s 7ms/step - loss: 0.2144 - accuracy: 0.9018 - val_loss: 0.1488 - val_accuracy: 0.9408\n",
      "Epoch 182/300\n",
      "94/94 [==============================] - 1s 7ms/step - loss: 0.2017 - accuracy: 0.9045 - val_loss: 0.1491 - val_accuracy: 0.9350\n",
      "Epoch 183/300\n",
      "94/94 [==============================] - 1s 7ms/step - loss: 0.2183 - accuracy: 0.9002 - val_loss: 0.1490 - val_accuracy: 0.9333\n",
      "Epoch 184/300\n",
      "94/94 [==============================] - 1s 7ms/step - loss: 0.2099 - accuracy: 0.9060 - val_loss: 0.1480 - val_accuracy: 0.9350\n",
      "Epoch 185/300\n",
      "94/94 [==============================] - 1s 7ms/step - loss: 0.2153 - accuracy: 0.9010 - val_loss: 0.1452 - val_accuracy: 0.9350\n",
      "Epoch 186/300\n",
      "94/94 [==============================] - 1s 7ms/step - loss: 0.2120 - accuracy: 0.9077 - val_loss: 0.1487 - val_accuracy: 0.9358\n",
      "Epoch 187/300\n",
      "94/94 [==============================] - 1s 7ms/step - loss: 0.2102 - accuracy: 0.9068 - val_loss: 0.1409 - val_accuracy: 0.9358\n",
      "Epoch 188/300\n",
      "94/94 [==============================] - 1s 7ms/step - loss: 0.2037 - accuracy: 0.9057 - val_loss: 0.1393 - val_accuracy: 0.9367\n",
      "Epoch 189/300\n",
      "94/94 [==============================] - 1s 7ms/step - loss: 0.2079 - accuracy: 0.9028 - val_loss: 0.1483 - val_accuracy: 0.9350\n",
      "Epoch 190/300\n",
      "94/94 [==============================] - 1s 7ms/step - loss: 0.2090 - accuracy: 0.9038 - val_loss: 0.1413 - val_accuracy: 0.9358\n",
      "Epoch 191/300\n",
      "94/94 [==============================] - 1s 7ms/step - loss: 0.2098 - accuracy: 0.9020 - val_loss: 0.1392 - val_accuracy: 0.9383\n",
      "Epoch 192/300\n",
      "94/94 [==============================] - 1s 7ms/step - loss: 0.2136 - accuracy: 0.9028 - val_loss: 0.1424 - val_accuracy: 0.9375\n",
      "Epoch 193/300\n",
      "94/94 [==============================] - 1s 7ms/step - loss: 0.2079 - accuracy: 0.9047 - val_loss: 0.1462 - val_accuracy: 0.9350\n",
      "Epoch 194/300\n",
      "94/94 [==============================] - 1s 7ms/step - loss: 0.2100 - accuracy: 0.9038 - val_loss: 0.1460 - val_accuracy: 0.9367\n",
      "Epoch 195/300\n",
      "94/94 [==============================] - 1s 7ms/step - loss: 0.2090 - accuracy: 0.9038 - val_loss: 0.1433 - val_accuracy: 0.9367\n",
      "Epoch 196/300\n",
      "94/94 [==============================] - 1s 7ms/step - loss: 0.2061 - accuracy: 0.9033 - val_loss: 0.1450 - val_accuracy: 0.9358\n",
      "Epoch 197/300\n",
      "94/94 [==============================] - 1s 7ms/step - loss: 0.2174 - accuracy: 0.8973 - val_loss: 0.1419 - val_accuracy: 0.9408\n",
      "Epoch 198/300\n",
      "94/94 [==============================] - 1s 7ms/step - loss: 0.2017 - accuracy: 0.9058 - val_loss: 0.1410 - val_accuracy: 0.9417\n",
      "Epoch 199/300\n",
      "94/94 [==============================] - 1s 7ms/step - loss: 0.2050 - accuracy: 0.9087 - val_loss: 0.1407 - val_accuracy: 0.9400\n",
      "Epoch 200/300\n",
      "94/94 [==============================] - 1s 8ms/step - loss: 0.2065 - accuracy: 0.9055 - val_loss: 0.1358 - val_accuracy: 0.9400\n",
      "Epoch 201/300\n",
      "94/94 [==============================] - 1s 7ms/step - loss: 0.2011 - accuracy: 0.9052 - val_loss: 0.1416 - val_accuracy: 0.9342\n",
      "Epoch 202/300\n",
      "94/94 [==============================] - 1s 7ms/step - loss: 0.2111 - accuracy: 0.9052 - val_loss: 0.1458 - val_accuracy: 0.9367\n",
      "Epoch 203/300\n",
      "94/94 [==============================] - 1s 7ms/step - loss: 0.2078 - accuracy: 0.9063 - val_loss: 0.1481 - val_accuracy: 0.9358\n",
      "Epoch 204/300\n",
      "94/94 [==============================] - 1s 7ms/step - loss: 0.2110 - accuracy: 0.9030 - val_loss: 0.1518 - val_accuracy: 0.9258\n",
      "Epoch 205/300\n",
      "94/94 [==============================] - 1s 7ms/step - loss: 0.2010 - accuracy: 0.9068 - val_loss: 0.1478 - val_accuracy: 0.9342\n",
      "Epoch 206/300\n",
      "94/94 [==============================] - 1s 7ms/step - loss: 0.2001 - accuracy: 0.9107 - val_loss: 0.1583 - val_accuracy: 0.9275\n",
      "Epoch 207/300\n",
      "94/94 [==============================] - 1s 7ms/step - loss: 0.1967 - accuracy: 0.9105 - val_loss: 0.1352 - val_accuracy: 0.9400\n",
      "Epoch 208/300\n",
      "94/94 [==============================] - 1s 7ms/step - loss: 0.2124 - accuracy: 0.9043 - val_loss: 0.1447 - val_accuracy: 0.9325\n",
      "Epoch 209/300\n",
      "94/94 [==============================] - 1s 7ms/step - loss: 0.2041 - accuracy: 0.9065 - val_loss: 0.1368 - val_accuracy: 0.9350\n",
      "Epoch 210/300\n",
      "94/94 [==============================] - 1s 7ms/step - loss: 0.1989 - accuracy: 0.9102 - val_loss: 0.1361 - val_accuracy: 0.9408\n",
      "Epoch 211/300\n",
      "94/94 [==============================] - 1s 7ms/step - loss: 0.2067 - accuracy: 0.9053 - val_loss: 0.1395 - val_accuracy: 0.9350\n",
      "Epoch 212/300\n",
      "94/94 [==============================] - 1s 7ms/step - loss: 0.1938 - accuracy: 0.9110 - val_loss: 0.1397 - val_accuracy: 0.9392\n",
      "Epoch 213/300\n",
      "94/94 [==============================] - 1s 7ms/step - loss: 0.1980 - accuracy: 0.9092 - val_loss: 0.1370 - val_accuracy: 0.9350\n",
      "Epoch 214/300\n",
      "94/94 [==============================] - 1s 7ms/step - loss: 0.2004 - accuracy: 0.9112 - val_loss: 0.1354 - val_accuracy: 0.9392\n",
      "Epoch 215/300\n",
      "94/94 [==============================] - 1s 7ms/step - loss: 0.2051 - accuracy: 0.9070 - val_loss: 0.1352 - val_accuracy: 0.9367\n",
      "Epoch 216/300\n",
      "94/94 [==============================] - 1s 7ms/step - loss: 0.2000 - accuracy: 0.9075 - val_loss: 0.1370 - val_accuracy: 0.9400\n",
      "Epoch 217/300\n",
      "94/94 [==============================] - 1s 7ms/step - loss: 0.2030 - accuracy: 0.9063 - val_loss: 0.1462 - val_accuracy: 0.9317\n",
      "Epoch 218/300\n",
      "94/94 [==============================] - 1s 7ms/step - loss: 0.2035 - accuracy: 0.9082 - val_loss: 0.1354 - val_accuracy: 0.9375\n",
      "Epoch 219/300\n",
      "94/94 [==============================] - 1s 7ms/step - loss: 0.1978 - accuracy: 0.9100 - val_loss: 0.1331 - val_accuracy: 0.9400\n",
      "Epoch 220/300\n",
      "94/94 [==============================] - 1s 14ms/step - loss: 0.2053 - accuracy: 0.9035 - val_loss: 0.1351 - val_accuracy: 0.9408\n",
      "Epoch 221/300\n",
      "94/94 [==============================] - 1s 13ms/step - loss: 0.1970 - accuracy: 0.9062 - val_loss: 0.1445 - val_accuracy: 0.9308\n",
      "Epoch 222/300\n",
      "94/94 [==============================] - 1s 11ms/step - loss: 0.2045 - accuracy: 0.9073 - val_loss: 0.1356 - val_accuracy: 0.9417\n",
      "Epoch 223/300\n",
      "94/94 [==============================] - 1s 10ms/step - loss: 0.2054 - accuracy: 0.9058 - val_loss: 0.1336 - val_accuracy: 0.9450\n",
      "Epoch 224/300\n",
      "94/94 [==============================] - 1s 8ms/step - loss: 0.2025 - accuracy: 0.9088 - val_loss: 0.1390 - val_accuracy: 0.9367\n",
      "Epoch 225/300\n",
      "94/94 [==============================] - 1s 8ms/step - loss: 0.1980 - accuracy: 0.9112 - val_loss: 0.1374 - val_accuracy: 0.9358\n",
      "Epoch 226/300\n",
      "94/94 [==============================] - 1s 7ms/step - loss: 0.1994 - accuracy: 0.9085 - val_loss: 0.1388 - val_accuracy: 0.9392\n",
      "Epoch 227/300\n",
      "94/94 [==============================] - 1s 8ms/step - loss: 0.2053 - accuracy: 0.9075 - val_loss: 0.1528 - val_accuracy: 0.9325\n",
      "Epoch 228/300\n",
      "94/94 [==============================] - 1s 8ms/step - loss: 0.1983 - accuracy: 0.9118 - val_loss: 0.1456 - val_accuracy: 0.9350\n",
      "Epoch 229/300\n"
     ]
    },
    {
     "name": "stdout",
     "output_type": "stream",
     "text": [
      "94/94 [==============================] - 1s 7ms/step - loss: 0.1962 - accuracy: 0.9107 - val_loss: 0.1335 - val_accuracy: 0.9408\n",
      "Epoch 230/300\n",
      "94/94 [==============================] - 1s 7ms/step - loss: 0.1985 - accuracy: 0.9088 - val_loss: 0.1410 - val_accuracy: 0.9383\n",
      "Epoch 231/300\n",
      "94/94 [==============================] - 1s 7ms/step - loss: 0.2040 - accuracy: 0.9068 - val_loss: 0.1367 - val_accuracy: 0.9375\n",
      "Epoch 232/300\n",
      "94/94 [==============================] - 1s 7ms/step - loss: 0.2017 - accuracy: 0.9065 - val_loss: 0.1319 - val_accuracy: 0.9458\n",
      "Epoch 233/300\n",
      "94/94 [==============================] - 1s 7ms/step - loss: 0.1971 - accuracy: 0.9112 - val_loss: 0.1326 - val_accuracy: 0.9408\n",
      "Epoch 234/300\n",
      "94/94 [==============================] - 1s 7ms/step - loss: 0.1976 - accuracy: 0.9113 - val_loss: 0.1393 - val_accuracy: 0.9317\n",
      "Epoch 235/300\n",
      "94/94 [==============================] - 1s 7ms/step - loss: 0.1935 - accuracy: 0.9147 - val_loss: 0.1338 - val_accuracy: 0.9392\n",
      "Epoch 236/300\n",
      "94/94 [==============================] - 1s 7ms/step - loss: 0.2000 - accuracy: 0.9088 - val_loss: 0.1332 - val_accuracy: 0.9383\n",
      "Epoch 237/300\n",
      "94/94 [==============================] - 1s 7ms/step - loss: 0.1995 - accuracy: 0.9067 - val_loss: 0.1363 - val_accuracy: 0.9425\n",
      "Epoch 238/300\n",
      "94/94 [==============================] - 1s 7ms/step - loss: 0.1951 - accuracy: 0.9063 - val_loss: 0.1311 - val_accuracy: 0.9408\n",
      "Epoch 239/300\n",
      "94/94 [==============================] - 1s 7ms/step - loss: 0.2007 - accuracy: 0.9092 - val_loss: 0.1481 - val_accuracy: 0.9317\n",
      "Epoch 240/300\n",
      "94/94 [==============================] - 1s 7ms/step - loss: 0.2034 - accuracy: 0.9035 - val_loss: 0.1435 - val_accuracy: 0.9333\n",
      "Epoch 241/300\n",
      "94/94 [==============================] - 1s 7ms/step - loss: 0.1979 - accuracy: 0.9088 - val_loss: 0.1344 - val_accuracy: 0.9408\n",
      "Epoch 242/300\n",
      "94/94 [==============================] - 1s 8ms/step - loss: 0.1901 - accuracy: 0.9128 - val_loss: 0.1430 - val_accuracy: 0.9325\n",
      "Epoch 243/300\n",
      "94/94 [==============================] - 1s 8ms/step - loss: 0.1995 - accuracy: 0.9102 - val_loss: 0.1361 - val_accuracy: 0.9375\n",
      "Epoch 244/300\n",
      "94/94 [==============================] - 1s 7ms/step - loss: 0.1884 - accuracy: 0.9132 - val_loss: 0.1319 - val_accuracy: 0.9475\n",
      "Epoch 245/300\n",
      "94/94 [==============================] - 1s 7ms/step - loss: 0.1958 - accuracy: 0.9128 - val_loss: 0.1280 - val_accuracy: 0.9442\n",
      "Epoch 246/300\n",
      "94/94 [==============================] - 1s 7ms/step - loss: 0.1969 - accuracy: 0.9092 - val_loss: 0.1367 - val_accuracy: 0.9392\n",
      "Epoch 247/300\n",
      "94/94 [==============================] - 1s 7ms/step - loss: 0.1935 - accuracy: 0.9138 - val_loss: 0.1303 - val_accuracy: 0.9433\n",
      "Epoch 248/300\n",
      "94/94 [==============================] - 1s 7ms/step - loss: 0.2021 - accuracy: 0.9118 - val_loss: 0.1357 - val_accuracy: 0.9383\n",
      "Epoch 249/300\n",
      "94/94 [==============================] - 1s 7ms/step - loss: 0.1977 - accuracy: 0.9118 - val_loss: 0.1319 - val_accuracy: 0.9400\n",
      "Epoch 250/300\n",
      "94/94 [==============================] - 1s 7ms/step - loss: 0.1940 - accuracy: 0.9135 - val_loss: 0.1335 - val_accuracy: 0.9417\n",
      "Epoch 251/300\n",
      "94/94 [==============================] - 1s 7ms/step - loss: 0.1926 - accuracy: 0.9120 - val_loss: 0.1268 - val_accuracy: 0.9408\n",
      "Epoch 252/300\n",
      "94/94 [==============================] - 1s 7ms/step - loss: 0.1950 - accuracy: 0.9112 - val_loss: 0.1292 - val_accuracy: 0.9433\n",
      "Epoch 253/300\n",
      "94/94 [==============================] - 1s 7ms/step - loss: 0.1956 - accuracy: 0.9108 - val_loss: 0.1291 - val_accuracy: 0.9450\n",
      "Epoch 254/300\n",
      "94/94 [==============================] - 1s 7ms/step - loss: 0.1910 - accuracy: 0.9135 - val_loss: 0.1333 - val_accuracy: 0.9475\n",
      "Epoch 255/300\n",
      "94/94 [==============================] - 1s 7ms/step - loss: 0.1835 - accuracy: 0.9172 - val_loss: 0.1361 - val_accuracy: 0.9417\n",
      "Epoch 256/300\n",
      "94/94 [==============================] - 1s 7ms/step - loss: 0.1871 - accuracy: 0.9165 - val_loss: 0.1293 - val_accuracy: 0.9425\n",
      "Epoch 257/300\n",
      "94/94 [==============================] - 1s 7ms/step - loss: 0.1911 - accuracy: 0.9142 - val_loss: 0.1368 - val_accuracy: 0.9442\n",
      "Epoch 258/300\n",
      "94/94 [==============================] - 1s 7ms/step - loss: 0.1919 - accuracy: 0.9105 - val_loss: 0.1343 - val_accuracy: 0.9375\n",
      "Epoch 259/300\n",
      "94/94 [==============================] - 1s 7ms/step - loss: 0.1966 - accuracy: 0.9097 - val_loss: 0.1301 - val_accuracy: 0.9425\n",
      "Epoch 260/300\n",
      "94/94 [==============================] - 1s 7ms/step - loss: 0.2012 - accuracy: 0.9100 - val_loss: 0.1343 - val_accuracy: 0.9383\n",
      "Epoch 261/300\n",
      "94/94 [==============================] - 1s 7ms/step - loss: 0.1935 - accuracy: 0.9132 - val_loss: 0.1304 - val_accuracy: 0.9408\n",
      "Epoch 262/300\n",
      "94/94 [==============================] - 1s 7ms/step - loss: 0.2036 - accuracy: 0.9075 - val_loss: 0.1488 - val_accuracy: 0.9300\n",
      "Epoch 263/300\n",
      "94/94 [==============================] - 1s 7ms/step - loss: 0.1884 - accuracy: 0.9155 - val_loss: 0.1311 - val_accuracy: 0.9433\n",
      "Epoch 264/300\n",
      "94/94 [==============================] - 1s 7ms/step - loss: 0.1859 - accuracy: 0.9145 - val_loss: 0.1264 - val_accuracy: 0.9458\n",
      "Epoch 265/300\n",
      "94/94 [==============================] - 1s 7ms/step - loss: 0.1835 - accuracy: 0.9155 - val_loss: 0.1300 - val_accuracy: 0.9383\n",
      "Epoch 266/300\n",
      "94/94 [==============================] - 1s 7ms/step - loss: 0.1803 - accuracy: 0.9170 - val_loss: 0.1225 - val_accuracy: 0.9433\n",
      "Epoch 267/300\n",
      "94/94 [==============================] - 1s 7ms/step - loss: 0.1915 - accuracy: 0.9147 - val_loss: 0.1431 - val_accuracy: 0.9350\n",
      "Epoch 268/300\n",
      "94/94 [==============================] - 1s 7ms/step - loss: 0.1959 - accuracy: 0.9123 - val_loss: 0.1451 - val_accuracy: 0.9292\n",
      "Epoch 269/300\n",
      "94/94 [==============================] - 1s 7ms/step - loss: 0.1791 - accuracy: 0.9160 - val_loss: 0.1273 - val_accuracy: 0.9408\n",
      "Epoch 270/300\n",
      "94/94 [==============================] - 1s 7ms/step - loss: 0.1925 - accuracy: 0.9112 - val_loss: 0.1237 - val_accuracy: 0.9442\n",
      "Epoch 271/300\n",
      "94/94 [==============================] - 1s 7ms/step - loss: 0.1897 - accuracy: 0.9125 - val_loss: 0.1261 - val_accuracy: 0.9425\n",
      "Epoch 272/300\n",
      "94/94 [==============================] - 1s 7ms/step - loss: 0.1900 - accuracy: 0.9143 - val_loss: 0.1291 - val_accuracy: 0.9433\n",
      "Epoch 273/300\n",
      "94/94 [==============================] - 1s 7ms/step - loss: 0.1951 - accuracy: 0.9090 - val_loss: 0.1281 - val_accuracy: 0.9458\n",
      "Epoch 274/300\n",
      "94/94 [==============================] - 1s 7ms/step - loss: 0.1848 - accuracy: 0.9153 - val_loss: 0.1275 - val_accuracy: 0.9450\n",
      "Epoch 275/300\n",
      "94/94 [==============================] - 1s 7ms/step - loss: 0.1941 - accuracy: 0.9123 - val_loss: 0.1266 - val_accuracy: 0.9458\n",
      "Epoch 276/300\n",
      "94/94 [==============================] - 1s 8ms/step - loss: 0.1819 - accuracy: 0.9195 - val_loss: 0.1293 - val_accuracy: 0.9367\n",
      "Epoch 277/300\n",
      "94/94 [==============================] - 1s 7ms/step - loss: 0.1945 - accuracy: 0.9152 - val_loss: 0.1323 - val_accuracy: 0.9442\n",
      "Epoch 278/300\n",
      "94/94 [==============================] - 1s 7ms/step - loss: 0.1855 - accuracy: 0.9188 - val_loss: 0.1274 - val_accuracy: 0.9425\n",
      "Epoch 279/300\n",
      "94/94 [==============================] - 1s 7ms/step - loss: 0.1822 - accuracy: 0.9185 - val_loss: 0.1267 - val_accuracy: 0.9450\n",
      "Epoch 280/300\n",
      "94/94 [==============================] - 1s 7ms/step - loss: 0.1916 - accuracy: 0.9123 - val_loss: 0.1304 - val_accuracy: 0.9425\n",
      "Epoch 281/300\n",
      "94/94 [==============================] - 1s 7ms/step - loss: 0.1911 - accuracy: 0.9137 - val_loss: 0.1248 - val_accuracy: 0.9483\n",
      "Epoch 282/300\n",
      "94/94 [==============================] - 1s 7ms/step - loss: 0.1945 - accuracy: 0.9108 - val_loss: 0.1255 - val_accuracy: 0.9458\n",
      "Epoch 283/300\n",
      "94/94 [==============================] - 1s 7ms/step - loss: 0.1812 - accuracy: 0.9167 - val_loss: 0.1322 - val_accuracy: 0.9417\n",
      "Epoch 284/300\n",
      "94/94 [==============================] - 1s 7ms/step - loss: 0.1902 - accuracy: 0.9100 - val_loss: 0.1229 - val_accuracy: 0.9417\n",
      "Epoch 285/300\n",
      "94/94 [==============================] - 1s 7ms/step - loss: 0.1913 - accuracy: 0.9145 - val_loss: 0.1294 - val_accuracy: 0.9417\n",
      "Epoch 286/300\n"
     ]
    },
    {
     "name": "stdout",
     "output_type": "stream",
     "text": [
      "94/94 [==============================] - 1s 7ms/step - loss: 0.1828 - accuracy: 0.9193 - val_loss: 0.1237 - val_accuracy: 0.9475\n",
      "Epoch 287/300\n",
      "94/94 [==============================] - 1s 7ms/step - loss: 0.1869 - accuracy: 0.9157 - val_loss: 0.1305 - val_accuracy: 0.9458\n",
      "Epoch 288/300\n",
      "94/94 [==============================] - 1s 7ms/step - loss: 0.1886 - accuracy: 0.9093 - val_loss: 0.1270 - val_accuracy: 0.9458\n",
      "Epoch 289/300\n",
      "94/94 [==============================] - 1s 7ms/step - loss: 0.1783 - accuracy: 0.9167 - val_loss: 0.1212 - val_accuracy: 0.9442\n",
      "Epoch 290/300\n",
      "94/94 [==============================] - 1s 7ms/step - loss: 0.1897 - accuracy: 0.9155 - val_loss: 0.1235 - val_accuracy: 0.9442\n",
      "Epoch 291/300\n",
      "94/94 [==============================] - 1s 7ms/step - loss: 0.1883 - accuracy: 0.9175 - val_loss: 0.1352 - val_accuracy: 0.9392\n",
      "Epoch 292/300\n",
      "94/94 [==============================] - 1s 7ms/step - loss: 0.1889 - accuracy: 0.9140 - val_loss: 0.1250 - val_accuracy: 0.9458\n",
      "Epoch 293/300\n",
      "94/94 [==============================] - 1s 7ms/step - loss: 0.1891 - accuracy: 0.9190 - val_loss: 0.1248 - val_accuracy: 0.9475\n",
      "Epoch 294/300\n",
      "94/94 [==============================] - 1s 7ms/step - loss: 0.1796 - accuracy: 0.9190 - val_loss: 0.1250 - val_accuracy: 0.9458\n",
      "Epoch 295/300\n",
      "94/94 [==============================] - 1s 7ms/step - loss: 0.1872 - accuracy: 0.9138 - val_loss: 0.1265 - val_accuracy: 0.9442\n",
      "Epoch 296/300\n",
      "94/94 [==============================] - 1s 8ms/step - loss: 0.1784 - accuracy: 0.9165 - val_loss: 0.1263 - val_accuracy: 0.9433\n",
      "Epoch 297/300\n",
      "94/94 [==============================] - 1s 7ms/step - loss: 0.1882 - accuracy: 0.9188 - val_loss: 0.1252 - val_accuracy: 0.9467\n",
      "Epoch 298/300\n",
      "94/94 [==============================] - 1s 7ms/step - loss: 0.1832 - accuracy: 0.9183 - val_loss: 0.1307 - val_accuracy: 0.9375\n",
      "Epoch 299/300\n",
      "94/94 [==============================] - 1s 7ms/step - loss: 0.1892 - accuracy: 0.9153 - val_loss: 0.1251 - val_accuracy: 0.9425\n",
      "Epoch 300/300\n",
      "94/94 [==============================] - 1s 7ms/step - loss: 0.1844 - accuracy: 0.9162 - val_loss: 0.1222 - val_accuracy: 0.9450\n"
     ]
    }
   ],
   "source": [
    "history=model.fit(X, y, epochs = 300, batch_size = 64, validation_data=(X_test,y_test))"
   ]
  },
  {
   "cell_type": "markdown",
   "metadata": {},
   "source": [
    "## Accuracy and Loss Plot-Graphs"
   ]
  },
  {
   "cell_type": "code",
   "execution_count": 55,
   "metadata": {},
   "outputs": [
    {
     "data": {
      "image/png": "[encoded data removed]",
      "text/plain": [
       "<Figure size 1296x576 with 1 Axes>"
      ]
     },
     "metadata": {
      "needs_background": "light"
     },
     "output_type": "display_data"
    },
    {
     "data": {
      "image/png": "[encoded data removed]",
      "text/plain": [
       "<Figure size 1296x576 with 1 Axes>"
      ]
     },
     "metadata": {
      "needs_background": "light"
     },
     "output_type": "display_data"
    }
   ],
   "source": [
    "plt.figure(figsize=(18,8))\n",
    "plt.plot(history.history[\"accuracy\"],color='green', marker='o', linestyle='dashed')\n",
    "plt.plot(history.history[\"val_accuracy\"],color='red', marker='o', linestyle='dashed')\n",
    "plt.xlabel(\"Epochs\")\n",
    "plt.ylabel(\"Accuracy\")\n",
    "plt.title(\"Accuracy and Val_accuracy Plots\",fontsize=20)\n",
    "plt.show()\n",
    "\n",
    "plt.figure(figsize=(18,8))\n",
    "plt.plot(history.history[\"loss\"],color='green', marker='o', linestyle='dashed')\n",
    "plt.plot(history.history[\"val_loss\"],color='red', marker='o', linestyle='dashed')\n",
    "plt.xlabel(\"Epochs\")\n",
    "plt.ylabel(\"Loss\")\n",
    "plt.title(\"Loss and Val_loss\",fontsize=20)\n",
    "plt.show()"
   ]
  },
  {
   "cell_type": "markdown",
   "metadata": {},
   "source": [
    "***ANN Model Accuracy***"
   ]
  },
  {
   "cell_type": "code",
   "execution_count": 56,
   "metadata": {},
   "outputs": [
    {
     "name": "stdout",
     "output_type": "stream",
     "text": [
      "120/120 [==============================] - 0s 3ms/step - loss: 0.1222 - accuracy: 0.9450\n",
      "Ann model accuracy is: 0.9449999928474426\n"
     ]
    }
   ],
   "source": [
    "Accuracy=model.evaluate(x=X_test,y=y_test,batch_size=10)\n",
    "print(\"Ann model accuracy is:\",Accuracy[1])"
   ]
  },
  {
   "cell_type": "markdown",
   "metadata": {},
   "source": [
    "***Model Prediction***"
   ]
  },
  {
   "cell_type": "code",
   "execution_count": 57,
   "metadata": {},
   "outputs": [
    {
     "name": "stdout",
     "output_type": "stream",
     "text": [
      "120/120 [==============================] - 0s 2ms/step\n"
     ]
    }
   ],
   "source": [
    "Ann_pred=model.predict(X_test,batch_size=10,verbose=1)"
   ]
  },
  {
   "cell_type": "code",
   "execution_count": 58,
   "metadata": {},
   "outputs": [
    {
     "name": "stdout",
     "output_type": "stream",
     "text": [
      "[[1.        ]\n",
      " [0.19443923]\n",
      " [0.9998568 ]\n",
      " ...\n",
      " [0.00417504]\n",
      " [0.9999988 ]\n",
      " [0.99999964]]\n"
     ]
    }
   ],
   "source": [
    "print(Ann_pred)"
   ]
  },
  {
   "cell_type": "code",
   "execution_count": 59,
   "metadata": {},
   "outputs": [
    {
     "name": "stdout",
     "output_type": "stream",
     "text": [
      "[1, 0, 1, 0, 1, 1, 0, 1, 1, 1, 1, 1, 1, 1, 1, 0, 0, 1, 1, 1, 1, 1, 0, 0, 1, 0, 1, 1, 0, 0, 1, 0, 0, 1, 0, 1, 0, 0, 1, 0, 0, 1, 1, 0, 0, 0, 1, 0, 1, 1, 1, 1, 1, 1, 0, 0, 0, 0, 1, 0, 0, 1, 0, 0, 1, 0, 0, 0, 1, 1, 0, 0, 0, 1, 0, 1, 1, 1, 0, 1, 0, 0, 0, 1, 1, 1, 1, 0, 0, 0, 0, 1, 1, 1, 1, 0, 1, 1, 1, 1, 0, 1, 1, 0, 1, 0, 0, 0, 0, 0, 0, 1, 0, 0, 0, 0, 1, 1, 1, 1, 0, 1, 0, 0, 0, 1, 0, 1, 0, 1, 0, 0, 0, 0, 1, 0, 0, 1, 1, 1, 0, 0, 0, 1, 1, 1, 0, 1, 1, 0, 0, 1, 1, 1, 0, 0, 0, 0, 1, 1, 0, 1, 1, 0, 1, 0, 1, 0, 0, 0, 1, 1, 1, 0, 1, 0, 0, 1, 1, 1, 0, 0, 0, 0, 1, 0, 0, 0, 0, 1, 1, 0, 0, 1, 0, 1, 1, 0, 0, 1, 0, 0, 0, 0, 0, 1, 0, 1, 0, 1, 0, 1, 0, 0, 0, 0, 0, 0, 0, 0, 1, 1, 1, 0, 0, 0, 1, 0, 0, 1, 1, 0, 0, 0, 1, 0, 1, 0, 0, 1, 0, 1, 0, 1, 1, 0, 1, 0, 0, 0, 0, 0, 0, 1, 1, 1, 1, 1, 1, 1, 1, 1, 1, 1, 1, 0, 1, 0, 0, 1, 1, 0, 1, 0, 1, 1, 1, 1, 1, 1, 0, 1, 0, 1, 0, 1, 1, 0, 1, 0, 0, 0, 1, 1, 0, 1, 0, 1, 0, 0, 1, 1, 1, 1, 1, 0, 1, 0, 1, 1, 0, 1, 1, 1, 1, 1, 1, 0, 0, 1, 1, 1, 1, 0, 0, 0, 1, 1, 1, 0, 0, 0, 1, 0, 1, 1, 1, 1, 1, 0, 1, 1, 0, 1, 0, 0, 0, 0, 0, 1, 0, 1, 0, 0, 0, 0, 0, 0, 1, 1, 0, 1, 1, 0, 1, 1, 0, 1, 0, 1, 0, 1, 0, 1, 0, 0, 1, 0, 0, 0, 0, 0, 1, 1, 1, 1, 0, 1, 0, 0, 1, 0, 1, 1, 1, 1, 0, 1, 0, 1, 1, 0, 1, 0, 1, 1, 0, 1, 0, 1, 0, 1, 0, 0, 1, 0, 1, 0, 0, 0, 1, 0, 1, 1, 1, 0, 0, 1, 0, 0, 0, 0, 0, 1, 1, 0, 1, 0, 1, 0, 1, 1, 1, 0, 0, 1, 1, 1, 0, 0, 0, 1, 1, 0, 0, 1, 1, 0, 1, 1, 1, 1, 0, 1, 0, 0, 0, 1, 1, 1, 0, 1, 0, 1, 1, 0, 0, 0, 1, 0, 1, 0, 1, 1, 0, 0, 1, 1, 0, 1, 1, 1, 1, 1, 0, 1, 0, 1, 1, 1, 0, 1, 0, 0, 1, 1, 0, 0, 1, 1, 0, 1, 0, 0, 0, 0, 0, 0, 0, 0, 0, 0, 1, 1, 0, 1, 1, 1, 0, 1, 1, 1, 1, 1, 0, 1, 1, 1, 1, 0, 0, 1, 0, 1, 0, 0, 1, 0, 1, 0, 0, 1, 0, 0, 0, 0, 1, 0, 1, 0, 1, 0, 1, 1, 1, 0, 1, 0, 0, 1, 0, 1, 0, 1, 1, 1, 0, 0, 0, 0, 0, 0, 0, 0, 1, 1, 0, 1, 1, 0, 1, 0, 0, 0, 0, 1, 1, 0, 1, 0, 1, 0, 1, 0, 1, 0, 1, 0, 0, 0, 1, 0, 0, 1, 1, 0, 0, 0, 0, 0, 0, 0, 0, 1, 1, 1, 1, 1, 1, 1, 0, 1, 0, 1, 1, 1, 1, 0, 0, 1, 1, 1, 0, 1, 0, 0, 1, 0, 1, 0, 0, 0, 1, 1, 1, 0, 1, 0, 0, 0, 0, 0, 0, 1, 0, 1, 0, 1, 0, 1, 1, 1, 1, 1, 1, 1, 1, 0, 1, 0, 0, 1, 1, 0, 0, 0, 0, 1, 0, 1, 1, 0, 0, 1, 1, 0, 1, 1, 0, 0, 0, 1, 1, 1, 0, 1, 1, 1, 1, 1, 0, 1, 0, 1, 1, 0, 1, 0, 1, 0, 1, 0, 1, 0, 1, 1, 0, 1, 1, 0, 1, 1, 0, 0, 0, 0, 0, 0, 0, 0, 0, 1, 1, 0, 1, 1, 0, 1, 0, 0, 0, 1, 1, 1, 1, 0, 0, 1, 1, 0, 0, 1, 0, 0, 0, 0, 1, 1, 0, 0, 1, 1, 1, 1, 1, 1, 1, 1, 1, 0, 0, 1, 1, 0, 0, 0, 0, 0, 0, 0, 0, 0, 1, 1, 1, 1, 0, 0, 1, 0, 1, 0, 1, 0, 1, 1, 0, 1, 1, 0, 0, 1, 1, 0, 1, 0, 0, 1, 0, 0, 1, 1, 1, 0, 1, 0, 0, 0, 0, 0, 1, 1, 1, 1, 0, 0, 0, 0, 0, 1, 0, 1, 0, 1, 0, 1, 1, 0, 1, 1, 0, 1, 1, 0, 1, 0, 0, 1, 0, 1, 0, 1, 0, 0, 1, 0, 0, 0, 1, 1, 0, 0, 0, 0, 1, 0, 1, 1, 0, 0, 0, 1, 0, 0, 1, 1, 0, 0, 0, 0, 1, 0, 1, 0, 0, 0, 1, 1, 0, 1, 1, 1, 1, 1, 0, 0, 1, 0, 1, 0, 0, 1, 1, 0, 0, 1, 1, 1, 0, 1, 1, 0, 1, 0, 1, 1, 1, 0, 1, 0, 0, 1, 0, 1, 1, 1, 0, 0, 1, 0, 0, 1, 0, 0, 0, 0, 1, 0, 1, 0, 1, 1, 1, 0, 0, 1, 0, 0, 0, 0, 0, 0, 1, 0, 0, 0, 0, 0, 0, 0, 0, 0, 1, 0, 1, 1, 0, 0, 0, 0, 0, 0, 0, 0, 1, 1, 1, 1, 1, 0, 1, 0, 1, 0, 1, 0, 0, 1, 0, 0, 1, 0, 0, 0, 1, 0, 0, 0, 0, 0, 0, 0, 1, 0, 0, 0, 0, 0, 1, 0, 1, 1, 1, 1, 1, 0, 1, 1, 1, 1, 0, 1, 1, 1, 0, 0, 0, 0, 1, 0, 0, 1, 0, 1, 0, 1, 0, 0, 0, 0, 0, 0, 0, 0, 0, 0, 1, 1, 1, 0, 1, 1, 0, 0, 1, 0, 1, 1, 1, 1, 1, 0, 1, 1, 0, 0, 1, 1, 1, 0, 0, 1, 1, 0, 0, 1, 1, 0, 1, 1, 1, 0, 1, 0, 0, 1, 0, 0, 1, 1, 0, 1, 1, 0, 1, 0, 1, 0, 0, 1, 0, 0, 0, 1, 1, 0, 1, 0, 0, 1, 1, 0, 1, 0, 0, 0, 0, 1, 0, 0, 1, 1, 1, 0, 0, 1, 0, 1, 1, 1, 0, 1, 0, 1, 0, 0, 1, 1, 0, 1, 1, 1, 0, 0, 1, 0, 1, 1, 0, 0, 0, 1, 1, 0, 0, 1, 0, 0, 0, 1, 0, 1, 1, 0, 0, 1, 0, 1, 1, 0, 0, 1, 1, 0, 0, 1, 0, 0, 1, 0, 1, 1, 1, 0, 0, 0, 1, 0, 1, 1]\n"
     ]
    }
   ],
   "source": [
    "y_pred = [1 if i>0.5 else 0 for i in Ann_pred]\n",
    "print(y_pred)"
   ]
  },
  {
   "cell_type": "code",
   "execution_count": 60,
   "metadata": {},
   "outputs": [
    {
     "name": "stdout",
     "output_type": "stream",
     "text": [
      "1782    1\n",
      "3917    0\n",
      "221     1\n",
      "2135    0\n",
      "5224    1\n",
      "       ..\n",
      "2543    0\n",
      "1773    1\n",
      "2846    0\n",
      "5799    1\n",
      "1765    1\n",
      "Name: label, Length: 1200, dtype: int64\n"
     ]
    }
   ],
   "source": [
    "print(y_test)"
   ]
  },
  {
   "cell_type": "markdown",
   "metadata": {},
   "source": [
    "## Result Analysis"
   ]
  },
  {
   "cell_type": "markdown",
   "metadata": {},
   "source": [
    "### Classification Report"
   ]
  },
  {
   "cell_type": "code",
   "execution_count": 61,
   "metadata": {},
   "outputs": [
    {
     "name": "stdout",
     "output_type": "stream",
     "text": [
      "              precision    recall  f1-score   support\n",
      "\n",
      "          No       0.92      0.98      0.94       577\n",
      "         Yes       0.98      0.92      0.95       623\n",
      "\n",
      "    accuracy                           0.94      1200\n",
      "   macro avg       0.95      0.95      0.94      1200\n",
      "weighted avg       0.95      0.94      0.95      1200\n",
      "\n"
     ]
    }
   ],
   "source": [
    "print(classification_report(y_true=y_test,y_pred=y_pred,target_names=class_labels))"
   ]
  },
  {
   "cell_type": "markdown",
   "metadata": {},
   "source": [
    "### Confusion Matrix"
   ]
  },
  {
   "cell_type": "code",
   "execution_count": 62,
   "metadata": {},
   "outputs": [
    {
     "data": {
      "image/png": "[encoded data removed]",
      "text/plain": [
       "<Figure size 720x360 with 1 Axes>"
      ]
     },
     "metadata": {
      "needs_background": "light"
     },
     "output_type": "display_data"
    }
   ],
   "source": [
    "from mlxtend.plotting import plot_confusion_matrix\n",
    "ax=plot_confusion_matrix(conf_mat=confusion_matrix(y_true=y_test,y_pred=y_pred),\n",
    "                        figsize=(10,5),\n",
    "                        class_names=class_labels,\n",
    "                        cmap=plt.cm.Reds)\n",
    "plt.title(label=\"Confusion Matrix\")\n",
    "plt.show()"
   ]
  },
  {
   "cell_type": "code",
   "execution_count": 63,
   "metadata": {},
   "outputs": [],
   "source": [
    "model.save(filepath=\"models/ArtificialNeuralNetwork_model.h5\")"
   ]
  },
  {
   "cell_type": "markdown",
   "metadata": {},
   "source": [
    "## Model Comparision"
   ]
  },
  {
   "cell_type": "code",
   "execution_count": 64,
   "metadata": {},
   "outputs": [
    {
     "data": {
      "image/png": "[encoded data removed]",
      "text/plain": [
       "<Figure size 1296x576 with 1 Axes>"
      ]
     },
     "metadata": {
      "needs_background": "light"
     },
     "output_type": "display_data"
    }
   ],
   "source": [
    "Accuracy_data=[RF_accuracy,Accuracy[1]]\n",
    "labels=[\"RF\",\"ANN\"]\n",
    "colors=[\"deeppink\",\"lime\"]\n",
    "plt.figure(figsize=(18,8))\n",
    "plt.barh(y=labels,width=Accuracy_data,color=colors,)\n",
    "plt.title(label=\"Accuracy Comparision\")\n",
    "plt.show()"
   ]
  },
  {
   "cell_type": "markdown",
   "metadata": {},
   "source": [
    "## Thank You"
   ]
  },
  {
   "cell_type": "code",
   "execution_count": null,
   "metadata": {},
   "outputs": [],
   "source": []
  },
  {
   "cell_type": "code",
   "execution_count": null,
   "metadata": {},
   "outputs": [],
   "source": []
  }
 ],
 "metadata": {
  "kernelspec": {
   "display_name": "Python 3",
   "language": "python",
   "name": "python3"
  },
  "language_info": {
   "codemirror_mode": {
    "name": "ipython",
    "version": 3
   },
   "file_extension": ".py",
   "mimetype": "text/x-python",
   "name": "python",
   "nbconvert_exporter": "python",
   "pygments_lexer": "ipython3",
   "version": "3.8.3"
  }
 },
 "nbformat": 4,
 "nbformat_minor": 5
}
